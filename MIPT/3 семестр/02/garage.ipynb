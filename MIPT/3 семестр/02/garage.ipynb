{
 "cells": [
  {
   "cell_type": "code",
   "execution_count": 8,
   "metadata": {
    "ExecuteTime": {
     "end_time": "2020-10-14T22:56:52.219486Z",
     "start_time": "2020-10-14T22:56:52.206087Z"
    }
   },
   "outputs": [
    {
     "name": "stdout",
     "output_type": "stream",
     "text": [
      "5\n",
      "1\n",
      "3\n",
      "zzz\n",
      "zzz\n",
      "ASD\n"
     ]
    }
   ],
   "source": [
    "class Garage:\n",
    "# Конструктор и деструктор, если нужны\n",
    "    def __init__(self):\n",
    "        self.data = {}\n",
    "    # Запарковать машину v\n",
    "    def park(self, v):\n",
    "        self.data[v] = type(v)\n",
    "    # Пересчитать машины заданного типа t.\n",
    "    # Вернуть количество.\n",
    "    def count(self, t):\n",
    "        counter = 0\n",
    "        for value in self.data.values():\n",
    "            if issubclass(value, t):\n",
    "                counter += 1\n",
    "        return counter\n",
    "    # Получить самую быструю машину заданного типа t.\n",
    "    # Вернуть экземпляр.\n",
    "    def get_fastest_of_type(self, t):\n",
    "        ds = []\n",
    "        for key, value in self.data.items():\n",
    "            if issubclass(value, t):\n",
    "                ds.append(key)\n",
    "        return max(ds, key=lambda x: x.speed)\n",
    "\n",
    "# Базовый класс машины\n",
    "class Car:\n",
    "    def __init__(self, c, s, n):\n",
    "        self.capacity = int(c)\n",
    "        self.speed = int(s)\n",
    "        self.number = n\n",
    "\n",
    "# Грузовик\n",
    "class Truck(Car):\n",
    "    def __init__(self, c, s, n):\n",
    "        super().__init__(c, s, n)\n",
    "\n",
    "# Автобус\n",
    "class Bus(Car):\n",
    "    def __init__(self, c, s, n):\n",
    "        super().__init__(c, s, n)\n",
    "\n",
    "# Создаём гараж\n",
    "g = Garage()\n",
    "# Паркуем машины\n",
    "g.park(Car(1, 100, \"abc\"))\n",
    "g.park(Truck(1000, 150, \"zzz\"))\n",
    "g.park(Bus(100, 50, \"QWE\"))\n",
    "g.park(Bus(100, 80, \"ASD\"))\n",
    "g.park(Bus(100, 20, \"ZXC\"))\n",
    "\n",
    "# Сколько всего машин? Ожидаем 5, потому что грузовик и автобус - тоже машины.\n",
    "print(g.count(Car))\n",
    "# Сколько всего грузовиков? Ожидаем 1.\n",
    "print(g.count(Truck))\n",
    "# Сколько всего автобусов? Ожидаем 1.\n",
    "print(g.count(Bus))\n",
    "# Получим самую быструю машину и выведем её номер. Ожидаем zzz, потому что грузовик внезапно самый быстрый.\n",
    "print(g.get_fastest_of_type(Car).number)\n",
    "# Получим самый быстрый грузовик и выведем его номер. Ожидаем zzz.\n",
    "print(g.get_fastest_of_type(Truck).number)\n",
    "# Получим самый быстрый автобус и выведем его номер. Ожидаем ASD.\n",
    "print(g.get_fastest_of_type(Bus).number)"
   ]
  }
 ],
 "metadata": {
  "kernelspec": {
   "display_name": "Python 3",
   "language": "python",
   "name": "python3"
  },
  "language_info": {
   "codemirror_mode": {
    "name": "ipython",
    "version": 3
   },
   "file_extension": ".py",
   "mimetype": "text/x-python",
   "name": "python",
   "nbconvert_exporter": "python",
   "pygments_lexer": "ipython3",
   "version": "3.8.3"
  },
  "varInspector": {
   "cols": {
    "lenName": 16,
    "lenType": 16,
    "lenVar": 40
   },
   "kernels_config": {
    "python": {
     "delete_cmd_postfix": "",
     "delete_cmd_prefix": "del ",
     "library": "var_list.py",
     "varRefreshCmd": "print(var_dic_list())"
    },
    "r": {
     "delete_cmd_postfix": ") ",
     "delete_cmd_prefix": "rm(",
     "library": "var_list.r",
     "varRefreshCmd": "cat(var_dic_list()) "
    }
   },
   "types_to_exclude": [
    "module",
    "function",
    "builtin_function_or_method",
    "instance",
    "_Feature"
   ],
   "window_display": false
  }
 },
 "nbformat": 4,
 "nbformat_minor": 4
}
