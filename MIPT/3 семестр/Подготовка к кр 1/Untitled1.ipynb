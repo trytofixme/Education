{
 "cells": [
  {
   "cell_type": "code",
   "execution_count": 4,
   "metadata": {
    "ExecuteTime": {
     "end_time": "2020-10-16T10:51:41.606355Z",
     "start_time": "2020-10-16T10:51:36.257542Z"
    }
   },
   "outputs": [
    {
     "name": "stdout",
     "output_type": "stream",
     "text": [
      "aa\n"
     ]
    },
    {
     "data": {
      "text/plain": [
       "'nn'"
      ]
     },
     "execution_count": 4,
     "metadata": {},
     "output_type": "execute_result"
    }
   ],
   "source": [
    "import codecs\n",
    "codecs.encode(input(), 'rot13')"
   ]
  },
  {
   "cell_type": "code",
   "execution_count": 7,
   "metadata": {
    "ExecuteTime": {
     "end_time": "2020-10-16T11:00:39.439132Z",
     "start_time": "2020-10-16T11:00:39.429721Z"
    }
   },
   "outputs": [
    {
     "name": "stdout",
     "output_type": "stream",
     "text": [
      "2\n",
      "0\n"
     ]
    }
   ],
   "source": [
    "class Cursor:\n",
    "    def __init__(self, x, y):\n",
    "        self.x = x\n",
    "        self.y = y\n",
    "        self.count = []\n",
    "    \n",
    "    # Передвинуть по оси X на n и по оси Y на m\n",
    "    # n, m - произвольные целые числа\n",
    "    def move(self, n, m):\n",
    "        self.x -= n\n",
    "        self.y -= m\n",
    "\n",
    "    # Клик в текущем положении курсора\n",
    "    def click(self):\n",
    "        self.count.append([self.x, self.y])\n",
    "\n",
    "    # Вернуть количество кликов в заданном прямоугольнике\n",
    "    def get_click_count(self, min_x, max_x, min_y, max_y):\n",
    "        count = 0\n",
    "        for x in self.count:\n",
    "            if (x[0] >= min_x and x[0] <= max_x) and (x[1] >= min_y and x[1] <= max_y):\n",
    "                count += 1\n",
    "        return count\n",
    "\n",
    "c = Cursor(100, 100)\n",
    "c.click()\n",
    "c.move(10, -10)\n",
    "c.click()\n",
    "c.move(-10, 10)\n",
    "c.click()\n",
    "print(c.get_click_count(95, 105, 95, 105))\n",
    "print(c.get_click_count(0, 10, 0, 10))"
   ]
  },
  {
   "cell_type": "code",
   "execution_count": 6,
   "metadata": {
    "ExecuteTime": {
     "end_time": "2020-10-16T10:53:50.015715Z",
     "start_time": "2020-10-16T10:53:50.008116Z"
    }
   },
   "outputs": [
    {
     "data": {
      "text/plain": [
       "'nof'"
      ]
     },
     "execution_count": 6,
     "metadata": {},
     "output_type": "execute_result"
    }
   ],
   "source": [
    "rot13('abs')"
   ]
  }
 ],
 "metadata": {
  "kernelspec": {
   "display_name": "Python 3",
   "language": "python",
   "name": "python3"
  },
  "varInspector": {
   "cols": {
    "lenName": 16,
    "lenType": 16,
    "lenVar": 40
   },
   "kernels_config": {
    "python": {
     "delete_cmd_postfix": "",
     "delete_cmd_prefix": "del ",
     "library": "var_list.py",
     "varRefreshCmd": "print(var_dic_list())"
    },
    "r": {
     "delete_cmd_postfix": ") ",
     "delete_cmd_prefix": "rm(",
     "library": "var_list.r",
     "varRefreshCmd": "cat(var_dic_list()) "
    }
   },
   "types_to_exclude": [
    "module",
    "function",
    "builtin_function_or_method",
    "instance",
    "_Feature"
   ],
   "window_display": false
  }
 },
 "nbformat": 4,
 "nbformat_minor": 4
}
