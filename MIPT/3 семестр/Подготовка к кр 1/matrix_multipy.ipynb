{
 "cells": [
  {
   "cell_type": "code",
   "execution_count": 33,
   "metadata": {
    "ExecuteTime": {
     "end_time": "2020-10-15T17:26:08.673837Z",
     "start_time": "2020-10-15T17:26:08.656744Z"
    }
   },
   "outputs": [
    {
     "name": "stdout",
     "output_type": "stream",
     "text": [
      "[[0, 0], [0, 0], [0, 0]]\n"
     ]
    },
    {
     "data": {
      "text/plain": [
       "[[12, 18], [27, 42], [42, 66]]"
      ]
     },
     "execution_count": 33,
     "metadata": {},
     "output_type": "execute_result"
    }
   ],
   "source": [
    "def matrixmult (A, B):\n",
    "    rows_A = len(A)\n",
    "    cols_A = len(A[0])\n",
    "    rows_B = len(B)\n",
    "    cols_B = len(B[0])\n",
    "\n",
    "    if cols_A != rows_B:\n",
    "        print (\"Cannot multiply the two matrices. Incorrect dimensions.\")\n",
    "        return\n",
    "\n",
    "    # Create the result matrix\n",
    "    # Dimensions would be rows_A x cols_B\n",
    "    C = [[0 for row in range(cols_B)] for col in range(rows_A)]\n",
    "    print (C)\n",
    "\n",
    "    for i in range(rows_A):\n",
    "        for j in range(cols_B):\n",
    "            for k in range(cols_A):\n",
    "                C[i][j] += A[i][k] * B[k][j]\n",
    "    return C\n",
    "n = input()\n",
    "matrixmult(x, y)"
   ]
  },
  {
   "cell_type": "code",
   "execution_count": 42,
   "metadata": {
    "ExecuteTime": {
     "end_time": "2020-10-15T18:08:08.352515Z",
     "start_time": "2020-10-15T18:08:03.597135Z"
    }
   },
   "outputs": [
    {
     "name": "stdout",
     "output_type": "stream",
     "text": [
      "2 2\n",
      "1 2\n",
      "3 4\n",
      "8\n",
      "8\n",
      "2\n"
     ]
    }
   ],
   "source": [
    "num = [int(i) for i in input().split()]\n",
    "k = 0\n",
    "matrix = [[0] * num[1] for _ in range(num[0])]\n",
    "for i in range(num[0]):\n",
    "    inputs = [int(ind) for ind in input().split()]\n",
    "    for j in range(num[1]):\n",
    "        matrix[i][j] = inputs[j]\n",
    "res = [list(i) for i in zip(*matrix)]\n",
    "maxim = -1000000\n",
    "ind_ins = 0\n",
    "index = 0\n",
    "for x in res:\n",
    "    index+=1\n",
    "    if sum(x) > maxim:\n",
    "        maxim = sum(x)\n",
    "        ind_ins = index\n",
    "print(ind_ins - 1)\n",
    "\n"
   ]
  }
 ],
 "metadata": {
  "kernelspec": {
   "display_name": "Python 3",
   "language": "python",
   "name": "python3"
  },
  "language_info": {
   "codemirror_mode": {
    "name": "ipython",
    "version": 3
   },
   "file_extension": ".py",
   "mimetype": "text/x-python",
   "name": "python",
   "nbconvert_exporter": "python",
   "pygments_lexer": "ipython3",
   "version": "3.8.3"
  },
  "varInspector": {
   "cols": {
    "lenName": 16,
    "lenType": 16,
    "lenVar": 40
   },
   "kernels_config": {
    "python": {
     "delete_cmd_postfix": "",
     "delete_cmd_prefix": "del ",
     "library": "var_list.py",
     "varRefreshCmd": "print(var_dic_list())"
    },
    "r": {
     "delete_cmd_postfix": ") ",
     "delete_cmd_prefix": "rm(",
     "library": "var_list.r",
     "varRefreshCmd": "cat(var_dic_list()) "
    }
   },
   "types_to_exclude": [
    "module",
    "function",
    "builtin_function_or_method",
    "instance",
    "_Feature"
   ],
   "window_display": false
  }
 },
 "nbformat": 4,
 "nbformat_minor": 4
}
