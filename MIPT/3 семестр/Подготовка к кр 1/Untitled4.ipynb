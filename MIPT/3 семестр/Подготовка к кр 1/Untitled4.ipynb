{
 "cells": [
  {
   "cell_type": "code",
   "execution_count": 6,
   "metadata": {
    "ExecuteTime": {
     "end_time": "2020-10-16T12:15:09.106393Z",
     "start_time": "2020-10-16T12:15:08.398724Z"
    }
   },
   "outputs": [
    {
     "name": "stdout",
     "output_type": "stream",
     "text": [
      "/Users/nikitasemenov/Desktop/1234.rtf\n",
      "{\\egY1\\Taf\\\\Taf\\VcZ1252\\VbVbTegY2513\n",
      "\\VbVbTgXkgfVT_\\aZ0\\VbVbTc_TgYbe`0{\\YbaggU_\\Y0\\Y`bWXea\\YV[TefXg0 6bhe\\Xe;}\n",
      "{\\Vb_begU_;\\eXW255\\ZeXXa255\\U_hX255;\\eXW67\\ZeXXa67\\U_hX67;\\eXW215\\ZeXXa215\\U_hX215;}\n",
      "{\\*\\XkcTaWXWVb_begU_;;\\VffeZU\\V33333\\V33333\\V33333;\\VffeZU\\V87451\\V87451\\V87451;}\n",
      "\\cTcXej11900\\cTcXe[16840\\`TeZ_1440\\`TeZe1440\\i\\Xjj10800\\i\\Xj[8400\\i\\Xj^\\aW0\n",
      "\\WXYgTU720\n",
      "\\cTeW\\cTeWXYgTU720\\d]\\cTeg\\Z[gXaYTVgbe0\n",
      "\n",
      "\\Y0\\Yf24 \\VY2 \\VU3 \\XkcaW0\\XkcaWgj0\\^Xea\\aZ0\n",
      "\\bhg_0\\fgeb^Xj\\Wg[0 \\fgeb^XV2 HellU =UXld!\\\n",
      "  \\\n",
      "== XUZ13 ==\\\n",
      "}\n",
      "Can not read file\n"
     ]
    }
   ],
   "source": [
    "rot13=''\n",
    "strings = ''\n",
    "try:\n",
    "    path = input()\n",
    "    with open(path) as f:\n",
    "        strings = f.read()\n",
    "    for x in strings:\n",
    "        if (ord(x) >= 65 and ord(x) <= 90) or (ord(x)>= 97 and ord(x) <= 122):\n",
    "            if (ord(x.lower()) + 13) <= 90:\n",
    "                new_ch = chr(ord(i) + 13)\n",
    "            else:\n",
    "                new_ch = chr((ord(x.lower())+13) - ord('z') + ord(x)-(ord(x.lower())-ord('a'))-1)\n",
    "        else:\n",
    "            new_ch = x\n",
    "        rot13 += new_ch\n",
    "    print(rot13)\n",
    "except Exception:\n",
    "    print('Can not read file')\n"
   ]
  },
  {
   "cell_type": "code",
   "execution_count": null,
   "metadata": {},
   "outputs": [],
   "source": [
    "/Users/nikitasemenov/Desktop/1234.rtf"
   ]
  }
 ],
 "metadata": {
  "kernelspec": {
   "display_name": "Python 3",
   "language": "python",
   "name": "python3"
  },
  "language_info": {
   "codemirror_mode": {
    "name": "ipython",
    "version": 3
   },
   "file_extension": ".py",
   "mimetype": "text/x-python",
   "name": "python",
   "nbconvert_exporter": "python",
   "pygments_lexer": "ipython3",
   "version": "3.8.3"
  },
  "varInspector": {
   "cols": {
    "lenName": 16,
    "lenType": 16,
    "lenVar": 40
   },
   "kernels_config": {
    "python": {
     "delete_cmd_postfix": "",
     "delete_cmd_prefix": "del ",
     "library": "var_list.py",
     "varRefreshCmd": "print(var_dic_list())"
    },
    "r": {
     "delete_cmd_postfix": ") ",
     "delete_cmd_prefix": "rm(",
     "library": "var_list.r",
     "varRefreshCmd": "cat(var_dic_list()) "
    }
   },
   "types_to_exclude": [
    "module",
    "function",
    "builtin_function_or_method",
    "instance",
    "_Feature"
   ],
   "window_display": false
  }
 },
 "nbformat": 4,
 "nbformat_minor": 4
}
