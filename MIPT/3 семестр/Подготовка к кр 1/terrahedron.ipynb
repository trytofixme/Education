{
 "cells": [
  {
   "cell_type": "code",
   "execution_count": 17,
   "metadata": {
    "ExecuteTime": {
     "end_time": "2020-10-15T18:32:07.132818Z",
     "start_time": "2020-10-15T18:31:58.102960Z"
    }
   },
   "outputs": [
    {
     "name": "stdout",
     "output_type": "stream",
     "text": [
      "0 0 -1\n",
      "1 2 3\n",
      "4 8 9\n",
      "7 5 6\n",
      "9.0000\n"
     ]
    }
   ],
   "source": [
    "X = [float(i1) for i1 in input().split()]\n",
    "Y = [float(i2) for i2 in input().split()]\n",
    "Z = [float(i3) for i3 in input().split()]\n",
    "K = [float(i4) for i4 in input().split()]\n",
    "\n",
    "vec1, vec2, vec3 = [], [], []\n",
    "\n",
    "for i in range(3):\n",
    "    vec1.append(Y[i] - X[i])\n",
    "    vec2.append(Z[i] - X[i])\n",
    "    vec3.append(K[i] - X[i])\n",
    "\n",
    "val = 1/6 * abs(vec1[0] * (vec2[1] * vec3[2] - vec2[2] * vec3[1]) - vec1[1] * (vec2[0] * vec3[2] - vec2[2] * vec3[0]) + vec1[2] * (vec2[0] * vec3[1] - vec2[1] * vec3[0]))\n",
    "\n",
    "print('%.4f' % val)"
   ]
  }
 ],
 "metadata": {
  "kernelspec": {
   "display_name": "Python 3",
   "language": "python",
   "name": "python3"
  },
  "language_info": {
   "codemirror_mode": {
    "name": "ipython",
    "version": 3
   },
   "file_extension": ".py",
   "mimetype": "text/x-python",
   "name": "python",
   "nbconvert_exporter": "python",
   "pygments_lexer": "ipython3",
   "version": "3.8.3"
  },
  "varInspector": {
   "cols": {
    "lenName": 16,
    "lenType": 16,
    "lenVar": 40
   },
   "kernels_config": {
    "python": {
     "delete_cmd_postfix": "",
     "delete_cmd_prefix": "del ",
     "library": "var_list.py",
     "varRefreshCmd": "print(var_dic_list())"
    },
    "r": {
     "delete_cmd_postfix": ") ",
     "delete_cmd_prefix": "rm(",
     "library": "var_list.r",
     "varRefreshCmd": "cat(var_dic_list()) "
    }
   },
   "types_to_exclude": [
    "module",
    "function",
    "builtin_function_or_method",
    "instance",
    "_Feature"
   ],
   "window_display": false
  }
 },
 "nbformat": 4,
 "nbformat_minor": 4
}
