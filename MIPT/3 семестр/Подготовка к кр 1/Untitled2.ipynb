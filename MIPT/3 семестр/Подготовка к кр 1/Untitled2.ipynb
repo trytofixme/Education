{
 "cells": [
  {
   "cell_type": "code",
   "execution_count": null,
   "metadata": {
    "ExecuteTime": {
     "start_time": "2020-10-16T11:23:44.524Z"
    }
   },
   "outputs": [],
   "source": [
    "string, data, num = [], [], int(input())\n",
    "\n",
    "for i in range(num):\n",
    "    a = input()\n",
    "    flag = False\n",
    "    inputs = [int(j) for j in a.split()]\n",
    "    if len(string) > 0:\n",
    "        for x in string:\n",
    "            if x == str(inputs[0]) + str(inputs[1]):\n",
    "                flag = True\n",
    "    string.append(a.split(' ')[0] + a.split(' ')[1])\n",
    "    if inputs[2] >= 10 or (inputs[0] <= 100 or inputs[1] <= 100) or flag is True:\n",
    "        data.append(inputs)\n",
    "res = sorted(data, key=lambda x:(x[0], x[1], x[2]))\n",
    "for el in res:\n",
    "    print(el)"
   ]
  },
  {
   "cell_type": "code",
   "execution_count": null,
   "metadata": {},
   "outputs": [],
   "source": [
    "7\n",
    "100 200 50\n",
    "5 5 25\n",
    "10 10 1\n",
    "100 300 1\n",
    "100 300 1\n",
    "150 150 5\n",
    "20 20 1"
   ]
  }
 ],
 "metadata": {
  "kernelspec": {
   "display_name": "Python 3",
   "language": "python",
   "name": "python3"
  },
  "language_info": {
   "codemirror_mode": {
    "name": "ipython",
    "version": 3
   },
   "file_extension": ".py",
   "mimetype": "text/x-python",
   "name": "python",
   "nbconvert_exporter": "python",
   "pygments_lexer": "ipython3",
   "version": "3.8.3"
  },
  "varInspector": {
   "cols": {
    "lenName": 16,
    "lenType": 16,
    "lenVar": 40
   },
   "kernels_config": {
    "python": {
     "delete_cmd_postfix": "",
     "delete_cmd_prefix": "del ",
     "library": "var_list.py",
     "varRefreshCmd": "print(var_dic_list())"
    },
    "r": {
     "delete_cmd_postfix": ") ",
     "delete_cmd_prefix": "rm(",
     "library": "var_list.r",
     "varRefreshCmd": "cat(var_dic_list()) "
    }
   },
   "types_to_exclude": [
    "module",
    "function",
    "builtin_function_or_method",
    "instance",
    "_Feature"
   ],
   "window_display": false
  }
 },
 "nbformat": 4,
 "nbformat_minor": 4
}
