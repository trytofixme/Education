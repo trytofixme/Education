{
 "cells": [
  {
   "cell_type": "code",
   "execution_count": 4,
   "metadata": {
    "scrolled": false
   },
   "outputs": [
    {
     "name": "stdout",
     "output_type": "stream",
     "text": [
      "1 1\n",
      "2 1\n"
     ]
    }
   ],
   "source": [
    "data, mass, elements_sorted = {}, sorted(input().split()), {}\n",
    "for x in mass:\n",
    "    data[x] = data.get(x, 0) + 1\n",
    "elements_sorted = {k: data[k] for k in sorted(data, key=data.get, reverse=True)}\n",
    "for key, value in elements_sorted.items():\n",
    "    print(value, key)"
   ]
  },
  {
   "cell_type": "code",
   "execution_count": 11,
   "metadata": {},
   "outputs": [
    {
     "name": "stdout",
     "output_type": "stream",
     "text": [
      "aaa aaa aaa bbb bbb bbb bbb\n",
      "dict_items([('aaa', 3), ('bbb', 4)])\n",
      "aaa ('aaa', 3)\n",
      "3 ('aaa', 3)\n",
      "bbb ('bbb', 4)\n",
      "4 ('bbb', 4)\n"
     ]
    }
   ],
   "source": [
    "from collections import Counter\n",
    "data = input().split()\n",
    "print(Counter(data).items())\n",
    "for key in Counter(data).items():\n",
    "    for value in key:\n",
    "        print(value, key)"
   ]
  },
  {
   "cell_type": "code",
   "execution_count": null,
   "metadata": {},
   "outputs": [],
   "source": []
  }
 ],
 "metadata": {
  "kernelspec": {
   "display_name": "Python 3",
   "language": "python",
   "name": "python3"
  },
  "language_info": {
   "codemirror_mode": {
    "name": "ipython",
    "version": 3
   },
   "file_extension": ".py",
   "mimetype": "text/x-python",
   "name": "python",
   "nbconvert_exporter": "python",
   "pygments_lexer": "ipython3",
   "version": "3.8.3"
  }
 },
 "nbformat": 4,
 "nbformat_minor": 4
}
