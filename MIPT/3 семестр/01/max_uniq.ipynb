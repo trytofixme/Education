{
 "cells": [
  {
   "cell_type": "code",
   "execution_count": 11,
   "metadata": {},
   "outputs": [
    {
     "name": "stdout",
     "output_type": "stream",
     "text": [
      "1 2 10 5 10\n",
      "False\n",
      "10\n"
     ]
    }
   ],
   "source": [
    "data, mass = [], sorted([int(s) for s in input().split()])\n",
    "flag = max(mass) != mass[-1] and max(mass) != mass[-2]\n",
    "print(flag)\n",
    "for i in range(len(mass)):\n",
    "    if flag:\n",
    "        if max(mass) != mass[i]:\n",
    "            data.append(mass[i])\n",
    "    else:\n",
    "        data.append(mass[i])\n",
    "print(max(data))"
   ]
  },
  {
   "cell_type": "code",
   "execution_count": null,
   "metadata": {},
   "outputs": [],
   "source": []
  }
 ],
 "metadata": {
  "kernelspec": {
   "display_name": "Python 3",
   "language": "python",
   "name": "python3"
  }
 },
 "nbformat": 4,
 "nbformat_minor": 4
}
