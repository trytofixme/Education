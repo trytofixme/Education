{
 "cells": [
  {
   "cell_type": "code",
   "execution_count": null,
   "metadata": {},
   "outputs": [],
   "source": [
    "1.1 5.1\n",
    "-1.0 10.0\n",
    "12.0 15.5\n",
    "4\n",
    "0 1 5\n",
    "1.5 1.5 1.5\n",
    "-1.0 0.0 14.0\n",
    "3.0 5.0 15.0"
   ]
  },
  {
   "cell_type": "code",
   "execution_count": 1,
   "metadata": {
    "ExecuteTime": {
     "end_time": "2020-10-16T10:11:11.273091Z",
     "start_time": "2020-10-16T10:10:45.639982Z"
    }
   },
   "outputs": [
    {
     "name": "stdout",
     "output_type": "stream",
     "text": [
      "1.1 5.1\n",
      "-1.0 10.0\n",
      "12.0 15.5\n",
      "4\n",
      "0 1 5\n",
      "1.5 1.5 1.5\n",
      "-1.0 0.0 14.0\n",
      "3.0 5.0 15.0\n",
      "1\n"
     ]
    }
   ],
   "source": [
    "data1 = [float(i1) for i1 in input().split()]\n",
    "data2 = [float(i2) for i2 in input().split()]\n",
    "data3 = [float(i3) for i3 in input().split()]\n",
    "\n",
    "num = int(input())\n",
    "counter = 0\n",
    "for i in range(num):\n",
    "    inputs = [float(j) for j in input().split()]\n",
    "    if (inputs[0] <= data1[1] and inputs[0] >= data1[0]) and (inputs[1] <= data2[1] and inputs[1] >= data2[0])\\\n",
    "    and (inputs[2] <= data3[1] and inputs[2] >= data3[0]):\n",
    "        counter += 1\n",
    "print(counter)\n",
    "                            "
   ]
  },
  {
   "cell_type": "code",
   "execution_count": 11,
   "metadata": {
    "ExecuteTime": {
     "end_time": "2020-10-16T10:26:49.468211Z",
     "start_time": "2020-10-16T10:26:36.594652Z"
    }
   },
   "outputs": [
    {
     "name": "stdout",
     "output_type": "stream",
     "text": [
      "5\n",
      "50 200\n",
      "40 150\n",
      "90 100500\n",
      "-10 100\n",
      "-80 -1000\n",
      "18.0000 19990.0000\n"
     ]
    }
   ],
   "source": [
    "data, num, mass = {}, int(input()), []\n",
    "\n",
    "for _ in range(num) :\n",
    "    inputs = [float(j) for j in input().split()]\n",
    "    data[inputs[0]] = inputs[1]\n",
    "sum1 = 0\n",
    "counter = 0\n",
    "sum2 = 0\n",
    "for key, value in data.items():\n",
    "    if if key <= 80 and key >= -70:\n",
    "        sum2 += value\n",
    "        counter += 1\n",
    "    sum1 += key\n",
    "sum2 /= counter\n",
    "sum1 /= len(data)\n",
    "\n",
    "print('%.4f' % sum1, '%.4f' % sum2)"
   ]
  },
  {
   "cell_type": "code",
   "execution_count": null,
   "metadata": {},
   "outputs": [],
   "source": [
    "5\n",
    "50 200\n",
    "40 150\n",
    "90 100500\n",
    "-10 100\n",
    "-80 -1000\n",
    "\n",
    "for key in data:\n",
    "    for value in key:\n",
    "        if key <= 80 and key >= -70:\n",
    "            sum1 += key\n",
    "        sum2 += value"
   ]
  },
  {
   "cell_type": "code",
   "execution_count": null,
   "metadata": {
    "ExecuteTime": {
     "start_time": "2020-10-16T12:08:10.749Z"
    }
   },
   "outputs": [],
   "source": [
    "rot13=''\n",
    "\n",
    "try:\n",
    "    path = input()\n",
    "    with open(path) as f:\n",
    "        strings.read()\n",
    "    for x in strings:\n",
    "        if (ord(x) >= 65 and ord(x) <= 90) or (ord(x)>= 97 and ord(x) <= 122):\n",
    "            if (ord(x.lower()) + 13) <= 90:\n",
    "                new_ch = chr(ord(i) + 13)\n",
    "            else:\n",
    "                new_ch = chr(ord(x) - 143)\n",
    "        else:\n",
    "            new_ch = x\n",
    "    rot13 += new_ch\n",
    "except Exception:\n",
    "    print('Can not read file')"
   ]
  },
  {
   "cell_type": "code",
   "execution_count": 29,
   "metadata": {
    "ExecuteTime": {
     "end_time": "2020-10-16T10:41:57.111228Z",
     "start_time": "2020-10-16T10:41:54.606191Z"
    }
   },
   "outputs": [
    {
     "name": "stdout",
     "output_type": "stream",
     "text": [
      "def\n",
      "abc\n"
     ]
    },
    {
     "ename": "TypeError",
     "evalue": "'str' object does not support item assignment",
     "output_type": "error",
     "traceback": [
      "\u001b[0;31m---------------------------------------------------------------------------\u001b[0m",
      "\u001b[0;31mTypeError\u001b[0m                                 Traceback (most recent call last)",
      "\u001b[0;32m<ipython-input-29-066eae90a44c>\u001b[0m in \u001b[0;36m<module>\u001b[0;34m\u001b[0m\n\u001b[1;32m      5\u001b[0m     \u001b[0;32mfor\u001b[0m \u001b[0mi\u001b[0m \u001b[0;32min\u001b[0m \u001b[0mrange\u001b[0m\u001b[0;34m(\u001b[0m\u001b[0mlen\u001b[0m\u001b[0;34m(\u001b[0m\u001b[0mx\u001b[0m\u001b[0;34m)\u001b[0m\u001b[0;34m)\u001b[0m\u001b[0;34m:\u001b[0m\u001b[0;34m\u001b[0m\u001b[0;34m\u001b[0m\u001b[0m\n\u001b[1;32m      6\u001b[0m         \u001b[0;32mif\u001b[0m \u001b[0;34m(\u001b[0m\u001b[0mord\u001b[0m\u001b[0;34m(\u001b[0m\u001b[0mx\u001b[0m\u001b[0;34m[\u001b[0m\u001b[0mi\u001b[0m\u001b[0;34m]\u001b[0m\u001b[0;34m)\u001b[0m \u001b[0;34m>=\u001b[0m \u001b[0;36m65\u001b[0m \u001b[0;32mand\u001b[0m \u001b[0mord\u001b[0m\u001b[0;34m(\u001b[0m\u001b[0mx\u001b[0m\u001b[0;34m[\u001b[0m\u001b[0mi\u001b[0m\u001b[0;34m]\u001b[0m\u001b[0;34m)\u001b[0m \u001b[0;34m<=\u001b[0m \u001b[0;36m90\u001b[0m\u001b[0;34m)\u001b[0m \u001b[0;32mor\u001b[0m \u001b[0;34m(\u001b[0m\u001b[0mord\u001b[0m\u001b[0;34m(\u001b[0m\u001b[0mx\u001b[0m\u001b[0;34m[\u001b[0m\u001b[0mi\u001b[0m\u001b[0;34m]\u001b[0m\u001b[0;34m)\u001b[0m\u001b[0;34m>=\u001b[0m \u001b[0;36m97\u001b[0m \u001b[0;32mand\u001b[0m \u001b[0mord\u001b[0m\u001b[0;34m(\u001b[0m\u001b[0mx\u001b[0m\u001b[0;34m[\u001b[0m\u001b[0mi\u001b[0m\u001b[0;34m]\u001b[0m\u001b[0;34m)\u001b[0m \u001b[0;34m<=\u001b[0m \u001b[0;36m122\u001b[0m\u001b[0;34m)\u001b[0m\u001b[0;34m:\u001b[0m\u001b[0;34m\u001b[0m\u001b[0;34m\u001b[0m\u001b[0m\n\u001b[0;32m----> 7\u001b[0;31m             \u001b[0mx\u001b[0m\u001b[0;34m[\u001b[0m\u001b[0mi\u001b[0m\u001b[0;34m]\u001b[0m \u001b[0;34m=\u001b[0m \u001b[0mchr\u001b[0m\u001b[0;34m(\u001b[0m\u001b[0mord\u001b[0m\u001b[0;34m(\u001b[0m\u001b[0ms\u001b[0m\u001b[0;34m)\u001b[0m \u001b[0;34m+\u001b[0m \u001b[0;36m13\u001b[0m\u001b[0;34m)\u001b[0m\u001b[0;34m\u001b[0m\u001b[0;34m\u001b[0m\u001b[0m\n\u001b[0m\u001b[1;32m      8\u001b[0m             \u001b[0mprint\u001b[0m\u001b[0;34m(\u001b[0m\u001b[0;36m1\u001b[0m\u001b[0;34m)\u001b[0m\u001b[0;34m\u001b[0m\u001b[0;34m\u001b[0m\u001b[0m\n\u001b[1;32m      9\u001b[0m \u001b[0mprint\u001b[0m\u001b[0;34m(\u001b[0m\u001b[0mstrings\u001b[0m\u001b[0;34m)\u001b[0m\u001b[0;34m\u001b[0m\u001b[0;34m\u001b[0m\u001b[0m\n",
      "\u001b[0;31mTypeError\u001b[0m: 'str' object does not support item assignment"
     ]
    }
   ],
   "source": [
    "res=''\n",
    "try:\n",
    "\twith open(input(),'r') as f:\n",
    "\t\ts=f.read()\n",
    "\tfor i in s:\n",
    "\t\tif(ord(i)<=ord('z') and ord(i)>=ord('a')) or (ord(i)<=ord('Z') and ord(i)>=ord('A')):\n",
    "\t\t\tif (ord(i.lower())+13<=ord('z')):\n",
    "\t\t\t\tsym=chr(ord(i)+13)\n",
    "\t\t\telse:\n",
    "\t\t\t\tsym=chr((ord(i.lower())+13) - ord('z') + ord(i)-(ord(i.lower())-ord('a'))-1)\n",
    "\t\telse:\n",
    "\t\t\tsym=i\n",
    "\t\tres+=sym\n",
    "\tprint(res)\n",
    "except:\n",
    "\tprint(\"Can not read file\")\n"
   ]
  },
  {
   "cell_type": "code",
   "execution_count": null,
   "metadata": {
    "ExecuteTime": {
     "start_time": "2020-10-16T10:51:17.092Z"
    }
   },
   "outputs": [],
   "source": [
    "codecs.encode(input(), 'rot13')"
   ]
  }
 ],
 "metadata": {
  "kernelspec": {
   "display_name": "Python 3",
   "language": "python",
   "name": "python3"
  },
  "language_info": {
   "codemirror_mode": {
    "name": "ipython",
    "version": 3
   },
   "file_extension": ".py",
   "mimetype": "text/x-python",
   "name": "python",
   "nbconvert_exporter": "python",
   "pygments_lexer": "ipython3",
   "version": "3.8.3"
  },
  "varInspector": {
   "cols": {
    "lenName": 16,
    "lenType": 16,
    "lenVar": 40
   },
   "kernels_config": {
    "python": {
     "delete_cmd_postfix": "",
     "delete_cmd_prefix": "del ",
     "library": "var_list.py",
     "varRefreshCmd": "print(var_dic_list())"
    },
    "r": {
     "delete_cmd_postfix": ") ",
     "delete_cmd_prefix": "rm(",
     "library": "var_list.r",
     "varRefreshCmd": "cat(var_dic_list()) "
    }
   },
   "types_to_exclude": [
    "module",
    "function",
    "builtin_function_or_method",
    "instance",
    "_Feature"
   ],
   "window_display": false
  }
 },
 "nbformat": 4,
 "nbformat_minor": 4
}
