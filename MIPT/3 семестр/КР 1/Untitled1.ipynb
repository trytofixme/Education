{
 "cells": [
  {
   "cell_type": "code",
   "execution_count": null,
   "metadata": {
    "ExecuteTime": {
     "start_time": "2020-10-16T10:10:22.096Z"
    }
   },
   "outputs": [],
   "source": [
    "data1 = [float(i1) for i1 in input().split()]\n",
    "data2 = [float(i2) for i2 in input().split()]\n",
    "data3 = [float(i3) for i3 in input().split()]\n",
    "\n",
    "num = int(input())\n",
    "counter = 0\n",
    "for i in range(num):\n",
    "    inputs = [float(j) for j in input().split()]\n",
    "    if (inputs[0] <= data1[1] and inputs[0] >= data1[0]) and (inputs[1] <= data2[1] and inputs[1] >= data2[0])\\\n",
    "    and (inputs[2] <= data3[1] and inputs[2] >= data3[0]):\n",
    "        counter += 1\n",
    "print(counter)\n",
    "                            "
   ]
  },
  {
   "cell_type": "code",
   "execution_count": null,
   "metadata": {
    "ExecuteTime": {
     "start_time": "2020-10-16T10:10:23.704Z"
    }
   },
   "outputs": [],
   "source": [
    "1.1 5.1\n",
    "-1.0 10.0\n",
    "12.0 15.5\n",
    "4\n",
    "0 1 5\n",
    "1.5 1.5 1.5\n",
    "-1.0 0.0 14.0\n",
    "3.0 5.0 15.0"
   ]
  },
  {
   "cell_type": "code",
   "execution_count": null,
   "metadata": {
    "ExecuteTime": {
     "start_time": "2020-10-16T10:10:27.858Z"
    }
   },
   "outputs": [],
   "source": [
    "a\n"
   ]
  }
 ],
 "metadata": {
  "kernelspec": {
   "display_name": "Python 3",
   "language": "python",
   "name": "python3"
  },
  "language_info": {
   "codemirror_mode": {
    "name": "ipython",
    "version": 3
   },
   "file_extension": ".py",
   "mimetype": "text/x-python",
   "name": "python",
   "nbconvert_exporter": "python",
   "pygments_lexer": "ipython3",
   "version": "3.8.3"
  },
  "varInspector": {
   "cols": {
    "lenName": 16,
    "lenType": 16,
    "lenVar": 40
   },
   "kernels_config": {
    "python": {
     "delete_cmd_postfix": "",
     "delete_cmd_prefix": "del ",
     "library": "var_list.py",
     "varRefreshCmd": "print(var_dic_list())"
    },
    "r": {
     "delete_cmd_postfix": ") ",
     "delete_cmd_prefix": "rm(",
     "library": "var_list.r",
     "varRefreshCmd": "cat(var_dic_list()) "
    }
   },
   "types_to_exclude": [
    "module",
    "function",
    "builtin_function_or_method",
    "instance",
    "_Feature"
   ],
   "window_display": false
  }
 },
 "nbformat": 4,
 "nbformat_minor": 4
}
