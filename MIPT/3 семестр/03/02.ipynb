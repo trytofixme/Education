{
 "cells": [
  {
   "cell_type": "code",
   "execution_count": 58,
   "metadata": {
    "ExecuteTime": {
     "end_time": "2020-10-09T15:08:06.754055Z",
     "start_time": "2020-10-09T15:08:06.155948Z"
    }
   },
   "outputs": [
    {
     "name": "stdout",
     "output_type": "stream",
     "text": [
      "/Users/nikitasemenov/Desktop/123\n",
      "Files: 0\n",
      "Dirs: 1\n"
     ]
    }
   ],
   "source": [
    "import os\n",
    "\n",
    "\n",
    "file_path = input()\n",
    "check_file = os.path.exists(file_path)\n",
    "counter_f = counter_d = 0\n",
    "flag = os.path.isfile(file_path)\n",
    "if flag:\n",
    "    print('Files: {}\\nDirs: {}'.format(1, 0))\n",
    "if check_file and not flag:\n",
    "    for dirpath, dirnames, filenames in os.walk(file_path):\n",
    "        counter_f += len(filenames)\n",
    "        counter_d += len(dirnames)\n",
    "    print('Files: {}\\nDirs: {}'.format(counter_f, counter_d + 1))\n",
    "elif not flag:\n",
    "     print('Files: {}\\nDirs: {}'.format(0, 0))\n",
    "    "
   ]
  },
  {
   "cell_type": "code",
   "execution_count": null,
   "metadata": {},
   "outputs": [],
   "source": [
    "/Users/nikitasemenov/Desktop/Программирование"
   ]
  },
  {
   "cell_type": "code",
   "execution_count": null,
   "metadata": {},
   "outputs": [],
   "source": [
    "and len(str(f).split('.')) > 0"
   ]
  },
  {
   "cell_type": "code",
   "execution_count": null,
   "metadata": {},
   "outputs": [],
   "source": [
    "/Users/nikitasemenov/Desktop/Учеба"
   ]
  }
 ],
 "metadata": {
  "kernelspec": {
   "display_name": "Python 3",
   "language": "python",
   "name": "python3"
  },
  "language_info": {
   "codemirror_mode": {
    "name": "ipython",
    "version": 3
   },
   "file_extension": ".py",
   "mimetype": "text/x-python",
   "name": "python",
   "nbconvert_exporter": "python",
   "pygments_lexer": "ipython3",
   "version": "3.8.3"
  },
  "varInspector": {
   "cols": {
    "lenName": 16,
    "lenType": 16,
    "lenVar": 40
   },
   "kernels_config": {
    "python": {
     "delete_cmd_postfix": "",
     "delete_cmd_prefix": "del ",
     "library": "var_list.py",
     "varRefreshCmd": "print(var_dic_list())"
    },
    "r": {
     "delete_cmd_postfix": ") ",
     "delete_cmd_prefix": "rm(",
     "library": "var_list.r",
     "varRefreshCmd": "cat(var_dic_list()) "
    }
   },
   "types_to_exclude": [
    "module",
    "function",
    "builtin_function_or_method",
    "instance",
    "_Feature"
   ],
   "window_display": false
  }
 },
 "nbformat": 4,
 "nbformat_minor": 4
}
