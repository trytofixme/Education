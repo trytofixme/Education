{
 "cells": [
  {
   "cell_type": "code",
   "execution_count": 33,
   "metadata": {
    "ExecuteTime": {
     "end_time": "2020-10-14T22:38:59.316150Z",
     "start_time": "2020-10-14T22:38:53.825765Z"
    }
   },
   "outputs": [
    {
     "name": "stdout",
     "output_type": "stream",
     "text": [
      "/Users/nikitasemenov/Downloads/file5.docx\n",
      "test\n",
      "test:0\n"
     ]
    }
   ],
   "source": [
    "import docx\n",
    "import os\n",
    "import re\n",
    "\n",
    "def cool(name):\n",
    "    print(name, 0, sep = ': ')\n",
    "\n",
    "path = input()\n",
    "name = input()\n",
    "string = ''\n",
    "\n",
    "if os.path.exists(path) and path.split('.')[1] == 'docx' and os.path.isfile(path):\n",
    "    try: \n",
    "        doc = docx.Document(path)\n",
    "    except Exception:\n",
    "        cool(name)\n",
    "    else:\n",
    "        for paras in doc.paragraphs:\n",
    "            string += paras.text.lower()\n",
    "        mass = re.findall(name.lower(), string)\n",
    "        print(name, len(mass), sep = ': ')\n",
    "else:\n",
    "    cool(name)\n",
    "    "
   ]
  },
  {
   "cell_type": "code",
   "execution_count": null,
   "metadata": {},
   "outputs": [],
   "source": [
    "/Users/nikitasemenov/Downloads/file1.docx"
   ]
  },
  {
   "cell_type": "code",
   "execution_count": null,
   "metadata": {},
   "outputs": [],
   "source": [
    "LOREM"
   ]
  }
 ],
 "metadata": {
  "kernelspec": {
   "display_name": "Python 3",
   "language": "python",
   "name": "python3"
  },
  "language_info": {
   "codemirror_mode": {
    "name": "ipython",
    "version": 3
   },
   "file_extension": ".py",
   "mimetype": "text/x-python",
   "name": "python",
   "nbconvert_exporter": "python",
   "pygments_lexer": "ipython3",
   "version": "3.8.3"
  },
  "varInspector": {
   "cols": {
    "lenName": 16,
    "lenType": 16,
    "lenVar": 40
   },
   "kernels_config": {
    "python": {
     "delete_cmd_postfix": "",
     "delete_cmd_prefix": "del ",
     "library": "var_list.py",
     "varRefreshCmd": "print(var_dic_list())"
    },
    "r": {
     "delete_cmd_postfix": ") ",
     "delete_cmd_prefix": "rm(",
     "library": "var_list.r",
     "varRefreshCmd": "cat(var_dic_list()) "
    }
   },
   "types_to_exclude": [
    "module",
    "function",
    "builtin_function_or_method",
    "instance",
    "_Feature"
   ],
   "window_display": false
  }
 },
 "nbformat": 4,
 "nbformat_minor": 4
}
