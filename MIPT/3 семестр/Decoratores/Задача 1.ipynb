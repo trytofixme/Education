{
 "cells": [
  {
   "cell_type": "code",
   "execution_count": 121,
   "metadata": {
    "ExecuteTime": {
     "end_time": "2020-10-23T11:21:53.205728Z",
     "start_time": "2020-10-23T11:21:53.193758Z"
    }
   },
   "outputs": [
    {
     "name": "stdout",
     "output_type": "stream",
     "text": [
      "say_smth\n",
      "say_good\n",
      "Count 1\n",
      "Hi!\n",
      "Count 2\n",
      "Hi!\n",
      "Count 3\n",
      "Hi!\n"
     ]
    }
   ],
   "source": [
    "import json\n",
    "import functools\n",
    "\n",
    "filename = 'myfile.txt'\n",
    "data = {}\n",
    "def count_calls(func):\n",
    "    #try:\n",
    "        @functools.wraps(func)\n",
    "        def wrapper(*args, **kwargs):\n",
    "            data[func.__name__] += 1\n",
    "            print(f\"Count {data[func.__name__]}\")\n",
    "            with open(filename, 'w') as f:\n",
    "                dicts = check()\n",
    "                dicts[func.__name__] = data[func.__name__]\n",
    "                f.write(json.dumps(dicts, sort_keys=True, indent=4, separators=(',', ': ')))\n",
    "            return func(*args, **kwargs)\n",
    "        wrapper.num_calls = 0\n",
    "        data[func.__name__] = wrapper.num_calls\n",
    "        print(func.__name__)\n",
    "        return wrapper\n",
    "    #except OSError:\n",
    "    #    print('Path or file not exists')\n",
    "    #except:\n",
    "    #print('So bad')\n",
    "\n",
    "@count_calls\n",
    "def say_smth():\n",
    "    print(\"Hi!\")\n",
    "@count_calls\n",
    "def say_good():\n",
    "    print(\"Good\")\n",
    "\n",
    "def check():\n",
    "    dats = {}\n",
    "    with open(filename, 'r') as f:\n",
    "        s = f.read()\n",
    "        if s != '':\n",
    "            dats = json.loads(f.read())\n",
    "    return dats\n",
    "say_smth()\n",
    "say_smth()\n",
    "say_smth()"
   ]
  }
 ],
 "metadata": {
  "kernelspec": {
   "display_name": "Python 3",
   "language": "python",
   "name": "python3"
  },
  "language_info": {
   "codemirror_mode": {
    "name": "ipython",
    "version": 3
   },
   "file_extension": ".py",
   "mimetype": "text/x-python",
   "name": "python",
   "nbconvert_exporter": "python",
   "pygments_lexer": "ipython3",
   "version": "3.8.3"
  },
  "varInspector": {
   "cols": {
    "lenName": 16,
    "lenType": 16,
    "lenVar": 40
   },
   "kernels_config": {
    "python": {
     "delete_cmd_postfix": "",
     "delete_cmd_prefix": "del ",
     "library": "var_list.py",
     "varRefreshCmd": "print(var_dic_list())"
    },
    "r": {
     "delete_cmd_postfix": ") ",
     "delete_cmd_prefix": "rm(",
     "library": "var_list.r",
     "varRefreshCmd": "cat(var_dic_list()) "
    }
   },
   "types_to_exclude": [
    "module",
    "function",
    "builtin_function_or_method",
    "instance",
    "_Feature"
   ],
   "window_display": false
  }
 },
 "nbformat": 4,
 "nbformat_minor": 4
}
