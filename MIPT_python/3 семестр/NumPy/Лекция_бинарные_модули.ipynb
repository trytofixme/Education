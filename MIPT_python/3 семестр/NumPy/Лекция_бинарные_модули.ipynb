{
 "cells": [
  {
   "cell_type": "markdown",
   "metadata": {},
   "source": [
    "# Лекция бинарные модули"
   ]
  },
  {
   "cell_type": "code",
   "execution_count": 5,
   "metadata": {
    "ExecuteTime": {
     "end_time": "2020-12-07T13:30:11.018763Z",
     "start_time": "2020-12-07T13:30:08.259707Z"
    }
   },
   "outputs": [
    {
     "name": "stdout",
     "output_type": "stream",
     "text": [
      "Matrix size 128\n",
      "2.7344441413879395\n"
     ]
    }
   ],
   "source": [
    "import numpy as np\n",
    "import time\n",
    "import random\n",
    "\n",
    "\n",
    "N = 128\n",
    "\n",
    "def init_matrix(m):\n",
    "    size = len(m)\n",
    "    for i in range(0, size):\n",
    "        for j in range(0, size):\n",
    "            m[i][j] = random.random()\n",
    "            \n",
    "        \n",
    "def print_matrix(m):\n",
    "    for row in m:\n",
    "        print(row)\n",
    "\n",
    "def mult(c, a, b):\n",
    "    size = len(c)\n",
    "    print('Matrix size', size)\n",
    "    for i in range(0, size):\n",
    "        for j in range(0, size):\n",
    "            c[i][j] = 0\n",
    "            for k in range(0, size):\n",
    "                c[i][j] += a[i][k] * b[k][j]\n",
    "                \n",
    "a = np.zeros((N, N))\n",
    "b = np.zeros((N, N))\n",
    "c = np.zeros((N, N))\n",
    "\n",
    "init_matrix(a)\n",
    "init_matrix(b)\n",
    "\n",
    "start_time = time.time()\n",
    "mult(c, a, b)\n",
    "elapsed_time = time.time() - start_time\n",
    "\n",
    "print(elapsed_time)"
   ]
  }
 ],
 "metadata": {
  "kernelspec": {
   "display_name": "Python 3",
   "language": "python",
   "name": "python3"
  },
  "language_info": {
   "codemirror_mode": {
    "name": "ipython",
    "version": 3
   },
   "file_extension": ".py",
   "mimetype": "text/x-python",
   "name": "python",
   "nbconvert_exporter": "python",
   "pygments_lexer": "ipython3",
   "version": "3.8.3"
  },
  "varInspector": {
   "cols": {
    "lenName": 16,
    "lenType": 16,
    "lenVar": 40
   },
   "kernels_config": {
    "python": {
     "delete_cmd_postfix": "",
     "delete_cmd_prefix": "del ",
     "library": "var_list.py",
     "varRefreshCmd": "print(var_dic_list())"
    },
    "r": {
     "delete_cmd_postfix": ") ",
     "delete_cmd_prefix": "rm(",
     "library": "var_list.r",
     "varRefreshCmd": "cat(var_dic_list()) "
    }
   },
   "types_to_exclude": [
    "module",
    "function",
    "builtin_function_or_method",
    "instance",
    "_Feature"
   ],
   "window_display": false
  }
 },
 "nbformat": 4,
 "nbformat_minor": 4
}
