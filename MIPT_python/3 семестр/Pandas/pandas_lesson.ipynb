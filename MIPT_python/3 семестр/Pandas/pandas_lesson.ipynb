{
 "cells": [
  {
   "cell_type": "markdown",
   "metadata": {},
   "source": [
    "# Лекция по pandas"
   ]
  },
  {
   "cell_type": "code",
   "execution_count": 1,
   "metadata": {
    "ExecuteTime": {
     "end_time": "2020-12-06T22:56:45.601073Z",
     "start_time": "2020-12-06T22:56:44.340767Z"
    }
   },
   "outputs": [],
   "source": [
    "import pandas as pd\n",
    "import numpy as np"
   ]
  },
  {
   "cell_type": "code",
   "execution_count": 2,
   "metadata": {
    "ExecuteTime": {
     "end_time": "2020-12-06T22:56:45.622552Z",
     "start_time": "2020-12-06T22:56:45.603968Z"
    }
   },
   "outputs": [
    {
     "name": "stdout",
     "output_type": "stream",
     "text": [
      "          A         B         C         D\n",
      "0  1.566550 -1.466817  0.019973 -0.083373\n",
      "1  1.730734  0.448453 -0.285291 -1.032217\n",
      "2  1.384806 -1.914656 -0.933686  0.379045\n",
      "3 -1.244184  0.391683  1.263575 -1.882451\n",
      "4  0.354567  0.184977 -0.268546 -0.766329\n",
      "5  0.235074  1.188264 -0.072805 -0.379468\n"
     ]
    }
   ],
   "source": [
    "df = pd.DataFrame(np.random.randn(6, 4), columns=list('ABCD'))\n",
    "print(df)"
   ]
  },
  {
   "cell_type": "code",
   "execution_count": 3,
   "metadata": {
    "ExecuteTime": {
     "end_time": "2020-12-06T22:56:45.668597Z",
     "start_time": "2020-12-06T22:56:45.651058Z"
    }
   },
   "outputs": [
    {
     "name": "stdout",
     "output_type": "stream",
     "text": [
      "     A          B    C    D    E\n",
      "0  1.1 2020-09-01  111    0  foo\n",
      "1  1.1 2020-09-01  111   42  foo\n",
      "2  1.1 2020-09-01  111   84  foo\n",
      "3  1.1 2020-09-01  111  126  foo\n",
      "==========================\n",
      "A           float64\n",
      "B    datetime64[ns]\n",
      "C             int64\n",
      "D             int64\n",
      "E            object\n",
      "dtype: object\n",
      "==========================\n",
      "RangeIndex(start=0, stop=4, step=1)\n",
      "==========================\n",
      "Index(['A', 'B', 'C', 'D', 'E'], dtype='object')\n"
     ]
    }
   ],
   "source": [
    "df = pd.DataFrame({'A': 1.1,\n",
    "                  'B' : pd.Timestamp('20200901'),\n",
    "                  'C' : 111,\n",
    "                  'D' : 42 * np.arange(4),\n",
    "                  'E' : 'foo'})\n",
    "print(df)\n",
    "print('==========================')\n",
    "print(df.dtypes)\n",
    "print('==========================')\n",
    "print(df.index)\n",
    "print('==========================')\n",
    "print(df.columns)"
   ]
  },
  {
   "cell_type": "code",
   "execution_count": 4,
   "metadata": {
    "ExecuteTime": {
     "end_time": "2020-12-06T22:56:45.684024Z",
     "start_time": "2020-12-06T22:56:45.671919Z"
    }
   },
   "outputs": [
    {
     "name": "stdout",
     "output_type": "stream",
     "text": [
      "                   A         B         C         D\n",
      "2020-01-01  0.698621  0.341447  0.247101  1.568451\n",
      "2020-01-02  0.532675  2.022237 -0.723026 -0.211685\n",
      "2020-01-03  0.659331  1.240392 -1.140691 -1.068436\n",
      "2020-01-04  0.551787 -0.612855  2.556237  0.947406\n",
      "2020-01-05  0.399130  0.336684 -0.638077 -0.549133\n",
      "2020-01-06  0.762204  1.014376 -0.143107 -0.849237\n",
      "==========================\n",
      "0.34144716285680404\n"
     ]
    }
   ],
   "source": [
    "dates = pd.date_range('20200101', periods=6)\n",
    "#print(dates)\n",
    "#print('==========================')\n",
    "\n",
    "df = pd.DataFrame(np.random.randn(6, 4), index=dates, columns=list('ABCD'))\n",
    "print(df)\n",
    "print('==========================')\n",
    "print(df.loc['20200101', 'B'])\n",
    "#print('==========================')\n",
    "#print(df.index)\n",
    "#print('==========================')\n",
    "#print(df.loc['20200102', 'A'])"
   ]
  },
  {
   "cell_type": "code",
   "execution_count": 5,
   "metadata": {
    "ExecuteTime": {
     "end_time": "2020-12-06T22:56:45.743217Z",
     "start_time": "2020-12-06T22:56:45.689925Z"
    }
   },
   "outputs": [
    {
     "name": "stdout",
     "output_type": "stream",
     "text": [
      "     A          B    C    D    E\n",
      "0  1.1 2020-09-01  111    0  foo\n",
      "1  1.1 2020-09-01  111   42  foo\n",
      "2  1.1 2020-09-01  111   84  foo\n",
      "3  1.1 2020-09-01  111  126  foo\n",
      "==========================\n",
      "     A          B    C   D    E\n",
      "0  1.1 2020-09-01  111   0  foo\n",
      "1  1.1 2020-09-01  111  42  foo\n",
      "==========================\n",
      "0      0\n",
      "1     42\n",
      "2     84\n",
      "3    126\n",
      "Name: D, dtype: int64\n",
      "==========================\n",
      "     A          B    C   D    E\n",
      "1  1.1 2020-09-01  111  42  foo\n",
      "2  1.1 2020-09-01  111  84  foo\n",
      "==========================\n",
      "     A   D\n",
      "1  1.1  42\n",
      "2  1.1  84\n",
      "==========================\n",
      "1.1\n",
      "==========================\n",
      "     A          B    C   D    E\n",
      "1  1.1 2020-09-01  111  42  foo\n",
      "==========================\n",
      "     A    D\n",
      "0  1.1    0\n",
      "3  1.1  126\n",
      "==========================\n",
      "42\n"
     ]
    }
   ],
   "source": [
    "df = pd.DataFrame({'A': 1.1,\n",
    "                  'B' : pd.Timestamp('20200901'),\n",
    "                  'C' : 111,\n",
    "                  'D' : 42 * np.arange(4),\n",
    "                  'E' : 'foo'})\n",
    "print(df)\n",
    "print('==========================')\n",
    "print(df[0:2])\n",
    "print('==========================')\n",
    "print(df['D'])\n",
    "print('==========================')\n",
    "print(df.loc[1:2])\n",
    "print('==========================')\n",
    "print(df.loc[1:2, ['A', 'D']])\n",
    "print('==========================')\n",
    "print(df.loc[1, 'A'])\n",
    "\n",
    "print('==========================')\n",
    "print(df.iloc[1:2])\n",
    "print('==========================')\n",
    "print(df.iloc[[0, 3], [0, 3]])\n",
    "print('==========================')\n",
    "print(df.iat[1, 3])"
   ]
  },
  {
   "cell_type": "code",
   "execution_count": 6,
   "metadata": {
    "ExecuteTime": {
     "end_time": "2020-12-06T22:56:45.774817Z",
     "start_time": "2020-12-06T22:56:45.752679Z"
    }
   },
   "outputs": [
    {
     "name": "stdout",
     "output_type": "stream",
     "text": [
      "     A          B    C    D    E\n",
      "0  1.1 2020-09-01  1.0    0  foo\n",
      "1  1.1 2020-09-01  1.0   42  foo\n",
      "2  1.1 2020-09-01  1.0   84  foo\n",
      "3  1.1 2020-09-01  1.0  126  foo\n",
      "==========================\n",
      "     A          B    C    D    E\n",
      "0  1.1 2020-09-01  1.0  -42  foo\n",
      "1  1.1 2020-09-01  1.0   42  foo\n",
      "2  1.1 2020-09-01  1.0   84  foo\n",
      "3  1.1 2020-09-01  1.0  126  foo\n",
      "==========================\n",
      "     A          B    C  D    E\n",
      "0  1.1 2020-09-01  1.0  0  foo\n",
      "1  1.1 2020-09-01  1.0  1  foo\n",
      "2  1.1 2020-09-01  1.0  2  foo\n",
      "3  1.1 2020-09-01  1.0  3  foo\n"
     ]
    }
   ],
   "source": [
    "df = pd.DataFrame({'A': 1.1,\n",
    "                  'B' : pd.Timestamp('20200901'),\n",
    "                  'C' : pd.Series(1, index=list(range(4)), dtype=np.float32),\n",
    "                  'D' : 42 * np.arange(4),\n",
    "                  'E' : 'foo'})\n",
    "\n",
    "print(df)\n",
    "print('==========================')\n",
    "df.loc[0, 'D'] = -42\n",
    "print(df)\n",
    "print('==========================')\n",
    "df.loc[:, 'D'] = np.arange(4)\n",
    "print(df)"
   ]
  },
  {
   "cell_type": "code",
   "execution_count": 7,
   "metadata": {
    "ExecuteTime": {
     "end_time": "2020-12-06T22:56:45.814372Z",
     "start_time": "2020-12-06T22:56:45.791940Z"
    }
   },
   "outputs": [
    {
     "name": "stdout",
     "output_type": "stream",
     "text": [
      "     A          B    C    D    E\n",
      "0  1.1 2020-09-01  1.0    0  foo\n",
      "1  1.1 2020-09-01  1.0   42  foo\n",
      "2  1.1 2020-09-01  1.0   84  foo\n",
      "3  1.1 2020-09-01  1.0  126  foo\n",
      "==========================\n",
      "     A          B    C    D    E\n",
      "1  1.1 2020-09-01  1.0   42  foo\n",
      "2  1.1 2020-09-01  1.0   84  foo\n",
      "3  1.1 2020-09-01  1.0  126  foo\n"
     ]
    }
   ],
   "source": [
    "df = pd.DataFrame({'A': 1.1,\n",
    "                  'B' : pd.Timestamp('20200901'),\n",
    "                  'C' : pd.Series(1, index=list(range(4)), dtype=np.float32),\n",
    "                  'D' : 42 * np.arange(4),\n",
    "                  'E' : 'foo'})\n",
    "\n",
    "\n",
    "print(df)\n",
    "print('==========================')\n",
    "print(df[df['D'] > 0])"
   ]
  },
  {
   "cell_type": "code",
   "execution_count": 8,
   "metadata": {
    "ExecuteTime": {
     "end_time": "2020-12-06T22:56:45.849394Z",
     "start_time": "2020-12-06T22:56:45.818128Z"
    }
   },
   "outputs": [
    {
     "name": "stdout",
     "output_type": "stream",
     "text": [
      "     A          B    C    D    E\n",
      "0  1.1 2020-09-01  1.0    0  foo\n",
      "1  1.1 2020-09-01  1.0   42  foo\n",
      "2  1.1 2020-09-01  1.0   84  foo\n",
      "3  1.1 2020-09-01  1.0  126  foo\n",
      "==========================\n",
      "0    False\n",
      "1    False\n",
      "2     True\n",
      "3     True\n",
      "Name: D, dtype: bool\n",
      "==========================\n",
      "     A          B    C    D    E\n",
      "2  1.1 2020-09-01  1.0   84  foo\n",
      "3  1.1 2020-09-01  1.0  126  foo\n",
      "==========================\n",
      "2     84\n",
      "3    126\n",
      "Name: D, dtype: int64\n",
      "==========================\n",
      "2     84\n",
      "3    126\n",
      "Name: D, dtype: int64\n",
      "==========================\n",
      "     A          B    C   D    E\n",
      "0  1.1 2020-09-01  1.0   0  foo\n",
      "1  1.1 2020-09-01  1.0  42  foo\n",
      "2  1.1 2020-09-01  1.0   0  foo\n",
      "3  1.1 2020-09-01  1.0   0  foo\n"
     ]
    }
   ],
   "source": [
    "df = pd.DataFrame({'A': 1.1,\n",
    "                  'B' : pd.Timestamp('20200901'),\n",
    "                  'C' : pd.Series(1, index=list(range(4)), dtype=np.float32),\n",
    "                  'D' : 42 * np.arange(4),\n",
    "                  'E' : 'foo'})\n",
    "\n",
    "\n",
    "print(df)\n",
    "print('==========================')\n",
    "print(df['D'] > 42)\n",
    "print('==========================')\n",
    "print(df[df['D'] > 42])\n",
    "print('==========================')\n",
    "print(df[df['D'] > 42].loc[:, 'D'])\n",
    "print('==========================')\n",
    "print(df.loc[df['D'] > 42, 'D'])\n",
    "print('==========================')\n",
    "df.loc[df['D'] > 42, 'D'] = 0\n",
    "print(df)"
   ]
  },
  {
   "cell_type": "code",
   "execution_count": 11,
   "metadata": {
    "ExecuteTime": {
     "end_time": "2020-12-06T23:02:47.035930Z",
     "start_time": "2020-12-06T23:02:47.012482Z"
    }
   },
   "outputs": [
    {
     "name": "stdout",
     "output_type": "stream",
     "text": [
      "     A          B    C    D    E\n",
      "0  1.1 2020-09-01  1.0    0  foo\n",
      "1  1.1 2020-09-01  1.0   42  foo\n",
      "2  1.1 2020-09-01  1.0   84  foo\n",
      "3  1.1 2020-09-01  1.0  126  foo\n",
      "==========================\n",
      "     A          B    C    D    E\n",
      "3  1.1 2020-09-01  1.0  126  foo\n",
      "2  1.1 2020-09-01  1.0   84  foo\n",
      "1  1.1 2020-09-01  1.0   42  foo\n",
      "0  1.1 2020-09-01  1.0    0  foo\n",
      "==========================\n",
      "     A          B    C    D    E\n",
      "2  1.1 2020-09-01  1.0   84  foo\n",
      "3  1.1 2020-09-01  1.0  126  foo\n"
     ]
    }
   ],
   "source": [
    "df = pd.DataFrame({'A': 1.1,\n",
    "                  'B' : pd.Timestamp('20200901'),\n",
    "                  'C' : pd.Series(1, index=list(range(4)), dtype=np.float32),\n",
    "                  'D' : 42 * np.arange(4),\n",
    "                  'E' : 'foo'})\n",
    "\n",
    "print(df)\n",
    "print('==========================')\n",
    "print(df.sort_values(by='D', ascending=False))\n",
    "print('==========================')\n",
    "print(df.loc[df['D'] > 42].sort_values(by='D', ascending=True))"
   ]
  },
  {
   "cell_type": "code",
   "execution_count": 13,
   "metadata": {
    "ExecuteTime": {
     "end_time": "2020-12-06T23:04:06.905452Z",
     "start_time": "2020-12-06T23:04:06.883946Z"
    }
   },
   "outputs": [
    {
     "name": "stdout",
     "output_type": "stream",
     "text": [
      "     A          B    C    D    E     F\n",
      "0  1.1 2020-09-01  1.0    0  foo   NaN\n",
      "1  1.1 2020-09-01  1.0   42  foo  test\n",
      "2  1.1 2020-09-01  1.0   84  foo  test\n",
      "3  1.1 2020-09-01  1.0  126  foo   NaN\n",
      "==========================\n",
      "     A          B    C    D    E     F\n",
      "0  1.1 2020-09-01  1.0    0  foo      \n",
      "1  1.1 2020-09-01  1.0   42  foo  test\n",
      "2  1.1 2020-09-01  1.0   84  foo  test\n",
      "3  1.1 2020-09-01  1.0  126  foo      \n"
     ]
    }
   ],
   "source": [
    "df = pd.DataFrame({'A': 1.1,\n",
    "                  'B' : pd.Timestamp('20200901'),\n",
    "                  'C' : pd.Series(1, index=list(range(4)), dtype=np.float32),\n",
    "                  'D' : 42 * np.arange(4),\n",
    "                  'E' : 'foo'})\n",
    "\n",
    "df.loc[1:2, 'F'] = 'test'\n",
    "\n",
    "print(df)\n",
    "print('==========================')\n",
    "print(df.fillna(value=''))"
   ]
  },
  {
   "cell_type": "code",
   "execution_count": 19,
   "metadata": {
    "ExecuteTime": {
     "end_time": "2020-12-06T23:33:55.474798Z",
     "start_time": "2020-12-06T23:33:55.449717Z"
    }
   },
   "outputs": [
    {
     "name": "stdout",
     "output_type": "stream",
     "text": [
      "     A          B    C    D    E\n",
      "0  1.1 2020-09-01  1.0    0  foo\n",
      "1  1.1 2020-09-01  1.0   42  foo\n",
      "2  1.1 2020-09-01  1.0   84  foo\n",
      "3  1.1 2020-09-01  1.0  126  foo\n",
      "==========================\n",
      "A     1.1\n",
      "C     1.0\n",
      "D    63.0\n",
      "dtype: float64\n",
      "==========================\n",
      "D    63.0\n",
      "dtype: float64\n",
      "<class 'pandas.core.series.Series'>\n",
      "==========================\n",
      "63.0\n",
      "<class 'numpy.float64'>\n",
      "==========================\n",
      "<class 'float'>\n"
     ]
    },
    {
     "name": "stderr",
     "output_type": "stream",
     "text": [
      "<ipython-input-19-fcb006443790>:9: FutureWarning: DataFrame.mean and DataFrame.median with numeric_only=None will include datetime64 and datetime64tz columns in a future version.\n",
      "  print(df.mean())\n"
     ]
    }
   ],
   "source": [
    "df = pd.DataFrame({'A': 1.1,\n",
    "                  'B' : pd.Timestamp('20200901'),\n",
    "                  'C' : pd.Series(1, index=list(range(4)), dtype=np.float32),\n",
    "                  'D' : 42 * np.arange(4),\n",
    "                  'E' : 'foo'})\n",
    "\n",
    "print(df)\n",
    "print('==========================')\n",
    "print(df.mean())\n",
    "print('==========================')\n",
    "print(df.loc[:, ['D']].mean())\n",
    "print(type(df.loc[:, ['D']].mean()))\n",
    "print('==========================')\n",
    "print(df.loc[:, 'D'].mean())\n",
    "print(type(df.loc[:, 'D'].mean()))\n",
    "print('==========================')\n",
    "print(type(float(df.loc[:, ['D']].mean())))"
   ]
  },
  {
   "cell_type": "code",
   "execution_count": 20,
   "metadata": {
    "ExecuteTime": {
     "end_time": "2020-12-06T23:35:11.691460Z",
     "start_time": "2020-12-06T23:35:11.655791Z"
    }
   },
   "outputs": [
    {
     "name": "stdout",
     "output_type": "stream",
     "text": [
      "     A          B    C    D    E\n",
      "0  1.1 2020-09-01  1.0    0  foo\n",
      "1  1.1 2020-09-01  1.0   42  foo\n",
      "2  1.1 2020-09-01  1.0   84  foo\n",
      "3  1.1 2020-09-01  1.0  126  foo\n",
      "==========================\n",
      "     A    C    D\n",
      "0  1.1  1.0    0\n",
      "1  2.2  2.0   42\n",
      "2  3.3  3.0  126\n",
      "3  4.4  4.0  252\n",
      "==========================\n",
      "     A    C      D\n",
      "0  1.1  2.1    2.1\n",
      "1  1.1  2.1   44.1\n",
      "2  1.1  2.1   86.1\n",
      "3  1.1  2.1  128.1\n",
      "==========================\n",
      "      A    C      D\n",
      "0  1.21  1.0      0\n",
      "1  1.21  1.0   1764\n",
      "2  1.21  1.0   7056\n",
      "3  1.21  1.0  15876\n"
     ]
    }
   ],
   "source": [
    "df = pd.DataFrame({'A': 1.1,\n",
    "                  'B' : pd.Timestamp('20200901'),\n",
    "                  'C' : pd.Series(1, index=list(range(4)), dtype=np.float32),\n",
    "                  'D' : 42 * np.arange(4),\n",
    "                  'E' : 'foo'})\n",
    "\n",
    "print(df)\n",
    "print('==========================')\n",
    "print(df.loc[:, ['A', 'C', 'D']].apply(np.cumsum))\n",
    "print('==========================')\n",
    "print(df.loc[:, ['A', 'C', 'D']].apply(np.cumsum, axis=1))\n",
    "print('==========================')\n",
    "print(df.loc[:, ['A', 'C', 'D']].apply(lambda x: x ** 2))"
   ]
  },
  {
   "cell_type": "code",
   "execution_count": 21,
   "metadata": {
    "ExecuteTime": {
     "end_time": "2020-12-06T23:40:37.175170Z",
     "start_time": "2020-12-06T23:40:37.152443Z"
    }
   },
   "outputs": [
    {
     "name": "stdout",
     "output_type": "stream",
     "text": [
      "   key  lval\n",
      "0  foo     1\n",
      "1  bar     2\n",
      "==========================\n",
      "   key  rval\n",
      "0  foo     4\n",
      "1  bar     5\n",
      "==========================\n",
      "   key  lval  rval\n",
      "0  foo     1     4\n",
      "1  bar     2     5\n"
     ]
    }
   ],
   "source": [
    "left = pd.DataFrame({'key' : ['foo', 'bar'], 'lval' : [1, 2]})\n",
    "right = pd.DataFrame({'key' : ['foo', 'bar'], 'rval' : [4, 5]})\n",
    "\n",
    "\n",
    "print(left)\n",
    "print('==========================')\n",
    "print(right)\n",
    "print('==========================')\n",
    "m = pd.merge(left, right, on='key')\n",
    "print(m)"
   ]
  },
  {
   "cell_type": "code",
   "execution_count": 23,
   "metadata": {
    "ExecuteTime": {
     "end_time": "2020-12-06T23:44:14.758090Z",
     "start_time": "2020-12-06T23:44:14.741907Z"
    }
   },
   "outputs": [
    {
     "name": "stdout",
     "output_type": "stream",
     "text": [
      "==========================\n",
      "   key  lval\n",
      "0  foo     1\n",
      "1  bar     2\n",
      "==========================\n",
      "   key  rval\n",
      "0  foo     4\n",
      "1  foo     5\n",
      "==========================\n",
      "   key  lval  rval\n",
      "0  foo     1     4\n",
      "1  foo     1     5\n"
     ]
    }
   ],
   "source": [
    "right2 = pd.DataFrame({'key' : ['foo', 'foo'], 'rval' : [4, 5]})\n",
    "print('==========================')\n",
    "print(left)\n",
    "print('==========================')\n",
    "print(right2)\n",
    "print('==========================')\n",
    "print(pd.merge(left, right2, on='key'))"
   ]
  },
  {
   "cell_type": "code",
   "execution_count": 24,
   "metadata": {
    "ExecuteTime": {
     "end_time": "2020-12-06T23:46:02.266028Z",
     "start_time": "2020-12-06T23:46:02.253548Z"
    }
   },
   "outputs": [
    {
     "name": "stdout",
     "output_type": "stream",
     "text": [
      "==========================\n",
      "   key  lval\n",
      "0  foo     1\n",
      "1  foo     2\n",
      "==========================\n",
      "   key  rval\n",
      "0  foo     4\n",
      "1  foo     5\n",
      "==========================\n",
      "   key  lval  rval\n",
      "0  foo     1     4\n",
      "1  foo     1     5\n",
      "2  foo     2     4\n",
      "3  foo     2     5\n"
     ]
    }
   ],
   "source": [
    "left2 = pd.DataFrame({'key' : ['foo', 'foo'], 'lval' : [1, 2]})\n",
    "print('==========================')\n",
    "print(left2)\n",
    "print('==========================')\n",
    "print(right2)q\n",
    "print('==========================')\n",
    "print(pd.merge(left2, right2, on='key'))"
   ]
  },
  {
   "cell_type": "code",
   "execution_count": 30,
   "metadata": {
    "ExecuteTime": {
     "end_time": "2020-12-06T23:53:55.008101Z",
     "start_time": "2020-12-06T23:53:54.988860Z"
    }
   },
   "outputs": [
    {
     "name": "stdout",
     "output_type": "stream",
     "text": [
      "     A      B  C         D\n",
      "0  foo    one  0  0.052655\n",
      "1  bar    one  1  0.552588\n",
      "2  foo    two  2  0.549326\n",
      "3  bar  three  3  0.884723\n",
      "4  foo    two  4  0.346837\n",
      "5  bar    two  5  0.650623\n",
      "6  foo    one  6  0.341917\n",
      "7  foo  three  7  0.602709\n",
      "==========================\n",
      "      C         D\n",
      "A                \n",
      "bar   9  2.087934\n",
      "foo  19  1.893445\n"
     ]
    }
   ],
   "source": [
    "df = pd.DataFrame({\n",
    "    'A' : ['foo', 'bar', 'foo', 'bar', 'foo', 'bar', 'foo', 'foo'],\n",
    "    'B' : ['one', 'one', 'two', 'three', 'two', 'two', 'one', 'three'],\n",
    "    'C' : np.arange(8),\n",
    "    'D' : np.random.rand(8)\n",
    "})\n",
    "\n",
    "print(df)\n",
    "print('==========================')\n",
    "print(df.groupby('A').sum())\n",
    "#print(df.groupby('A').apply(...))"
   ]
  },
  {
   "cell_type": "code",
   "execution_count": 32,
   "metadata": {
    "ExecuteTime": {
     "end_time": "2020-12-06T23:56:57.548773Z",
     "start_time": "2020-12-06T23:56:57.130724Z"
    }
   },
   "outputs": [
    {
     "data": {
      "image/png": "[encoded data removed]",
      "text/plain": [
       "<Figure size 432x288 with 1 Axes>"
      ]
     },
     "metadata": {
      "needs_background": "light"
     },
     "output_type": "display_data"
    },
    {
     "data": {
      "image/png": "[encoded data removed]",
      "text/plain": [
       "<Figure size 432x288 with 1 Axes>"
      ]
     },
     "metadata": {
      "needs_background": "light"
     },
     "output_type": "display_data"
    }
   ],
   "source": [
    "aggr = df.groupby('A').sum()\n",
    "ax = df.plot()\n",
    "ax.set_xlabel('x label')\n",
    "ax.set_ylabel('y label')\n",
    "ax2 = aggr.plot(kind='bar')"
   ]
  }
 ],
 "metadata": {
  "kernelspec": {
   "display_name": "Python 3",
   "language": "python",
   "name": "python3"
  },
  "language_info": {
   "codemirror_mode": {
    "name": "ipython",
    "version": 3
   },
   "file_extension": ".py",
   "mimetype": "text/x-python",
   "name": "python",
   "nbconvert_exporter": "python",
   "pygments_lexer": "ipython3",
   "version": "3.8.3"
  },
  "varInspector": {
   "cols": {
    "lenName": 16,
    "lenType": 16,
    "lenVar": 40
   },
   "kernels_config": {
    "python": {
     "delete_cmd_postfix": "",
     "delete_cmd_prefix": "del ",
     "library": "var_list.py",
     "varRefreshCmd": "print(var_dic_list())"
    },
    "r": {
     "delete_cmd_postfix": ") ",
     "delete_cmd_prefix": "rm(",
     "library": "var_list.r",
     "varRefreshCmd": "cat(var_dic_list()) "
    }
   },
   "types_to_exclude": [
    "module",
    "function",
    "builtin_function_or_method",
    "instance",
    "_Feature"
   ],
   "window_display": false
  }
 },
 "nbformat": 4,
 "nbformat_minor": 4
}
