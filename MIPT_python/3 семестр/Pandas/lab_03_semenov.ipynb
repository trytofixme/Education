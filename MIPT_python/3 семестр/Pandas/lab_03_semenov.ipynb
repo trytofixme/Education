{
 "cells": [
  {
   "cell_type": "code",
   "execution_count": 1,
   "metadata": {
    "ExecuteTime": {
     "end_time": "2020-12-09T14:56:42.152831Z",
     "start_time": "2020-12-09T14:56:41.334985Z"
    }
   },
   "outputs": [],
   "source": [
    "import pandas as pd\n",
    "import numpy as np"
   ]
  },
  {
   "cell_type": "markdown",
   "metadata": {},
   "source": [
    "# Эпизод 1"
   ]
  },
  {
   "cell_type": "markdown",
   "metadata": {},
   "source": [
    "## Задача #1"
   ]
  },
  {
   "cell_type": "code",
   "execution_count": 2,
   "metadata": {
    "ExecuteTime": {
     "end_time": "2020-12-09T14:56:42.185106Z",
     "start_time": "2020-12-09T14:56:42.155197Z"
    }
   },
   "outputs": [
    {
     "name": "stdout",
     "output_type": "stream",
     "text": [
      "      Unnamed: 0     CONTRACTOR STATUS     SUM\n",
      "5085        5085      Acme, Inc     OK  100500\n",
      "4451        4451  Umbrella, Inc     OK    1000\n",
      "1348        1348      Acme, Inc     OK     999\n"
     ]
    }
   ],
   "source": [
    "df = pd.read_csv('transactions.csv')\n",
    "print(df.loc[df['STATUS'] == 'OK'].sort_values(by='SUM', ascending=False)[0 : 3])"
   ]
  },
  {
   "cell_type": "markdown",
   "metadata": {},
   "source": [
    "## Задача #2"
   ]
  },
  {
   "cell_type": "code",
   "execution_count": 3,
   "metadata": {
    "ExecuteTime": {
     "end_time": "2020-12-09T14:56:42.259821Z",
     "start_time": "2020-12-09T14:56:42.211497Z"
    }
   },
   "outputs": [
    {
     "name": "stdout",
     "output_type": "stream",
     "text": [
      "925719\n"
     ]
    }
   ],
   "source": [
    "print(df.loc[df['CONTRACTOR'] == 'Umbrella, Inc'].loc[df['STATUS'] == 'OK']['SUM'].sum())"
   ]
  },
  {
   "cell_type": "markdown",
   "metadata": {},
   "source": [
    "# Эпизод 2"
   ]
  },
  {
   "cell_type": "code",
   "execution_count": 4,
   "metadata": {
    "ExecuteTime": {
     "end_time": "2020-12-09T14:56:43.172351Z",
     "start_time": "2020-12-09T14:56:42.270138Z"
    }
   },
   "outputs": [
    {
     "name": "stdout",
     "output_type": "stream",
     "text": [
      "CARGO\n",
      "Jumbo      76795\n",
      "Medium     36312\n",
      "Nimble    752588\n",
      "Name: PRICE, dtype: int64\n",
      "CARGO\n",
      "Jumbo     18709\n",
      "Medium     9507\n",
      "Nimble     7545\n",
      "Name: WEIGHT, dtype: int64\n"
     ]
    },
    {
     "data": {
      "image/png": "[encoded data removed]",
      "text/plain": [
       "<Figure size 1080x360 with 3 Axes>"
      ]
     },
     "metadata": {
      "needs_background": "light"
     },
     "output_type": "display_data"
    }
   ],
   "source": [
    "import matplotlib.pyplot as plt\n",
    "df = pd.read_csv('flights.csv')\n",
    "\n",
    "fig, axes = plt.subplots(1, 3, figsize=(15,5))\n",
    "aggr1 = df.groupby('CARGO').size()\n",
    "aggr2 = df.groupby('CARGO')['PRICE'].sum()\n",
    "aggr3 = df.groupby('CARGO')['WEIGHT'].sum()\n",
    "\n",
    "aggr1.plot(kind='bar', ax=axes[0], title='кол-во рейсов')\n",
    "aggr2.plot(kind='bar', ax=axes[1], title='полная стоимость')\n",
    "aggr3.plot(kind='bar', ax=axes[2], title='полная масса')\n",
    "\n",
    "print(df.groupby('CARGO')['PRICE'].sum())\n",
    "print(df.groupby('CARGO')['WEIGHT'].sum())"
   ]
  },
  {
   "cell_type": "markdown",
   "metadata": {},
   "source": [
    "# Эпизод 3"
   ]
  },
  {
   "cell_type": "markdown",
   "metadata": {},
   "source": [
    "## Задача 1"
   ]
  },
  {
   "cell_type": "code",
   "execution_count": 5,
   "metadata": {
    "ExecuteTime": {
     "end_time": "2020-12-09T14:56:43.648488Z",
     "start_time": "2020-12-09T14:56:43.174782Z"
    }
   },
   "outputs": [
    {
     "data": {
      "text/plain": [
       "<AxesSubplot:xlabel='group_out'>"
      ]
     },
     "execution_count": 5,
     "metadata": {},
     "output_type": "execute_result"
    },
    {
     "data": {
      "image/png": "[encoded data removed]",
      "text/plain": [
       "<Figure size 1080x360 with 2 Axes>"
      ]
     },
     "metadata": {
      "needs_background": "light"
     },
     "output_type": "display_data"
    }
   ],
   "source": [
    "df1 = pd.read_excel('students_info.xlsx')\n",
    "df2 = pd.read_html('results_ejudge.html')[0]\n",
    "\n",
    "data = df1.merge(df2, left_on='login', right_on='User').fillna(value=0)\n",
    "\n",
    "\n",
    "fig, axes = plt.subplots(1, 2, figsize=(15,5))\n",
    "data1 = data.groupby(['group_faculty']).mean()['Solved']\n",
    "data2 = data.groupby(['group_out']).mean()['Solved']\n",
    "data1.plot(kind='bar', ax=axes[0])\n",
    "data2.plot(kind='bar', ax=axes[1])"
   ]
  },
  {
   "cell_type": "code",
   "execution_count": 6,
   "metadata": {
    "ExecuteTime": {
     "end_time": "2020-12-09T14:56:43.679386Z",
     "start_time": "2020-12-09T14:56:43.654560Z"
    }
   },
   "outputs": [
    {
     "name": "stdout",
     "output_type": "stream",
     "text": [
      "        login  group_faculty  group_out   Place      User     A     B     C  \\\n",
      "0    r0300101              1         35      30  r0300101  10.0   6.0   0.0   \n",
      "1    r0300102              1         32  75-129  r0300102   0.0   0.0   0.0   \n",
      "2    r0300103              1         32  75-129  r0300103   0.0   0.0   0.0   \n",
      "3    r0300104              1         32  75-129  r0300104   0.0   0.0   0.0   \n",
      "4    r0300105              1         32  75-129  r0300105   0.0   0.0   0.0   \n",
      "..        ...            ...        ...     ...       ...   ...   ...   ...   \n",
      "105  r0300807              8         38   47-49  r0300807  10.0   8.0   0.0   \n",
      "106  r0300808              8         38      29  r0300808   9.0   3.0  19.0   \n",
      "107  r0300809              8         38      17  r0300809   9.0   0.0  20.0   \n",
      "108  r0300810              8         38   47-49  r0300810  10.0  10.0   0.0   \n",
      "109  r0300811              8         38   50-52  r0300811   9.0   6.0   2.0   \n",
      "\n",
      "       D     E     F    G    H  Solved  Score  \n",
      "0    0.0   6.0  26.0  0.0  0.0       1     48  \n",
      "1    0.0   0.0   0.0  0.0  0.0       0      0  \n",
      "2    0.0   0.0   0.0  0.0  0.0       0      0  \n",
      "3    0.0   0.0   0.0  0.0  0.0       0      0  \n",
      "4    0.0   0.0   0.0  0.0  0.0       0      0  \n",
      "..   ...   ...   ...  ...  ...     ...    ...  \n",
      "105  0.0   2.0   0.0  0.0  0.0       2     20  \n",
      "106  0.0   0.0  30.0  0.0  0.0       3     61  \n",
      "107  0.0  20.0  29.0  0.0  0.0       4     78  \n",
      "108  0.0   0.0   0.0  0.0  0.0       2     20  \n",
      "109  0.0   0.0   0.0  0.0  0.0       1     17  \n",
      "\n",
      "[110 rows x 15 columns]\n"
     ]
    }
   ],
   "source": [
    "print(data)"
   ]
  },
  {
   "cell_type": "markdown",
   "metadata": {},
   "source": [
    "## Задача 2"
   ]
  },
  {
   "cell_type": "code",
   "execution_count": 7,
   "metadata": {
    "ExecuteTime": {
     "end_time": "2020-12-09T14:56:43.692500Z",
     "start_time": "2020-12-09T14:56:43.683587Z"
    }
   },
   "outputs": [],
   "source": [
    "gh = data[(data['G']>=10) | (data['H']>=10)][['User', 'group_out', 'group_faculty']]"
   ]
  },
  {
   "cell_type": "code",
   "execution_count": 8,
   "metadata": {
    "ExecuteTime": {
     "end_time": "2020-12-09T14:56:43.935049Z",
     "start_time": "2020-12-09T14:56:43.701398Z"
    }
   },
   "outputs": [
    {
     "data": {
      "text/plain": [
       "<AxesSubplot:title={'center':'Where from'}, xlabel='group_out'>"
      ]
     },
     "execution_count": 8,
     "metadata": {},
     "output_type": "execute_result"
    },
    {
     "data": {
      "image/png": "[encoded data removed]",
      "text/plain": [
       "<Figure size 720x288 with 2 Axes>"
      ]
     },
     "metadata": {
      "needs_background": "light"
     },
     "output_type": "display_data"
    }
   ],
   "source": [
    "fig, axes = plt.subplots(nrows=1, ncols=2, figsize = (10,4))\n",
    "plt.subplots_adjust(wspace=0.2, hspace=0.5)\n",
    "gh.groupby(['group_faculty']).size().plot(kind='bar',ax = axes[1], title = 'Where go')\n",
    "gh.groupby(['group_out']).size().plot(kind='bar', ax = axes[0], title='Where from')"
   ]
  },
  {
   "cell_type": "markdown",
   "metadata": {},
   "source": [
    "## Дополнительное задание"
   ]
  },
  {
   "cell_type": "code",
   "execution_count": 17,
   "metadata": {
    "ExecuteTime": {
     "end_time": "2020-12-09T15:12:33.560847Z",
     "start_time": "2020-12-09T15:12:33.546251Z"
    }
   },
   "outputs": [
    {
     "ename": "ValueError",
     "evalue": "The truth value of a Series is ambiguous. Use a.empty, a.bool(), a.item(), a.any() or a.all().",
     "output_type": "error",
     "traceback": [
      "\u001b[0;31m---------------------------------------------------------------------------\u001b[0m",
      "\u001b[0;31mValueError\u001b[0m                                Traceback (most recent call last)",
      "\u001b[0;32m<ipython-input-17-7c40651dfd55>\u001b[0m in \u001b[0;36m<module>\u001b[0;34m\u001b[0m\n\u001b[0;32m----> 1\u001b[0;31m \u001b[0mprint\u001b[0m\u001b[0;34m(\u001b[0m\u001b[0mdata\u001b[0m\u001b[0;34m.\u001b[0m\u001b[0mloc\u001b[0m\u001b[0;34m[\u001b[0m\u001b[0mdata\u001b[0m\u001b[0;34m[\u001b[0m\u001b[0;34m'group_out'\u001b[0m\u001b[0;34m]\u001b[0m \u001b[0;34m==\u001b[0m \u001b[0;36m32\u001b[0m \u001b[0;34m&\u001b[0m \u001b[0mdata\u001b[0m\u001b[0;34m[\u001b[0m\u001b[0;34m'group_out'\u001b[0m\u001b[0;34m]\u001b[0m \u001b[0;34m==\u001b[0m \u001b[0;36m34\u001b[0m\u001b[0;34m]\u001b[0m\u001b[0;34m.\u001b[0m\u001b[0mloc\u001b[0m\u001b[0;34m[\u001b[0m\u001b[0;34m:\u001b[0m\u001b[0;34m,\u001b[0m \u001b[0;34m'Solved'\u001b[0m\u001b[0;34m]\u001b[0m\u001b[0;34m)\u001b[0m\u001b[0;34m\u001b[0m\u001b[0;34m\u001b[0m\u001b[0m\n\u001b[0m",
      "\u001b[0;32m/usr/local/lib/python3.8/site-packages/pandas/core/generic.py\u001b[0m in \u001b[0;36m__nonzero__\u001b[0;34m(self)\u001b[0m\n\u001b[1;32m   1327\u001b[0m \u001b[0;34m\u001b[0m\u001b[0m\n\u001b[1;32m   1328\u001b[0m     \u001b[0;32mdef\u001b[0m \u001b[0m__nonzero__\u001b[0m\u001b[0;34m(\u001b[0m\u001b[0mself\u001b[0m\u001b[0;34m)\u001b[0m\u001b[0;34m:\u001b[0m\u001b[0;34m\u001b[0m\u001b[0;34m\u001b[0m\u001b[0m\n\u001b[0;32m-> 1329\u001b[0;31m         raise ValueError(\n\u001b[0m\u001b[1;32m   1330\u001b[0m             \u001b[0;34mf\"The truth value of a {type(self).__name__} is ambiguous. \"\u001b[0m\u001b[0;34m\u001b[0m\u001b[0;34m\u001b[0m\u001b[0m\n\u001b[1;32m   1331\u001b[0m             \u001b[0;34m\"Use a.empty, a.bool(), a.item(), a.any() or a.all().\"\u001b[0m\u001b[0;34m\u001b[0m\u001b[0;34m\u001b[0m\u001b[0m\n",
      "\u001b[0;31mValueError\u001b[0m: The truth value of a Series is ambiguous. Use a.empty, a.bool(), a.item(), a.any() or a.all()."
     ]
    }
   ],
   "source": [
    "print(data.loc[data['group_out'] == 32 & data['group_out'] == 34].loc[:, 'Solved'])"
   ]
  },
  {
   "cell_type": "markdown",
   "metadata": {},
   "source": [
    "Задание довольно таки неоднозначно сформулировано, но я полагаю, так и будет на работе)))).\n",
    "Мне кажется данные не очень правдивые, потому что некоторые группы(32 и 34) не писали контрольную, получается что они скорее всего не проходили этот предмет, а значит, оценивая среднее кол-во решенных задач по факультетам они портят результат для номера факультета. Т.е. нарушается объективность.  \n",
    "Или например это:"
   ]
  },
  {
   "cell_type": "code",
   "execution_count": 13,
   "metadata": {
    "ExecuteTime": {
     "end_time": "2020-12-09T15:07:40.778135Z",
     "start_time": "2020-12-09T15:07:40.772872Z"
    }
   },
   "outputs": [
    {
     "name": "stdout",
     "output_type": "stream",
     "text": [
      "34    0\n",
      "38    0\n",
      "39    0\n",
      "43    0\n",
      "47    0\n",
      "49    0\n",
      "50    0\n",
      "66    1\n",
      "74    1\n",
      "Name: Solved, dtype: int64\n"
     ]
    }
   ],
   "source": [
    "print(data.loc[data['group_out'] == 31].loc[:, 'Solved'])"
   ]
  },
  {
   "cell_type": "markdown",
   "metadata": {},
   "source": [
    "Довольно таки странно, что в группе всего 2 человека решили по 1ой задаче, конечно, всякое бывает, но это смахивает на ложь. Вроде как нарушается актуальность."
   ]
  }
 ],
 "metadata": {
  "kernelspec": {
   "display_name": "Python 3",
   "language": "python",
   "name": "python3"
  },
  "language_info": {
   "codemirror_mode": {
    "name": "ipython",
    "version": 3
   },
   "file_extension": ".py",
   "mimetype": "text/x-python",
   "name": "python",
   "nbconvert_exporter": "python",
   "pygments_lexer": "ipython3",
   "version": "3.8.3"
  },
  "varInspector": {
   "cols": {
    "lenName": 16,
    "lenType": 16,
    "lenVar": 40
   },
   "kernels_config": {
    "python": {
     "delete_cmd_postfix": "",
     "delete_cmd_prefix": "del ",
     "library": "var_list.py",
     "varRefreshCmd": "print(var_dic_list())"
    },
    "r": {
     "delete_cmd_postfix": ") ",
     "delete_cmd_prefix": "rm(",
     "library": "var_list.r",
     "varRefreshCmd": "cat(var_dic_list()) "
    }
   },
   "types_to_exclude": [
    "module",
    "function",
    "builtin_function_or_method",
    "instance",
    "_Feature"
   ],
   "window_display": false
  }
 },
 "nbformat": 4,
 "nbformat_minor": 4
}
