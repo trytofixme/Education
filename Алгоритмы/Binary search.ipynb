{
 "cells": [
  {
   "cell_type": "code",
   "execution_count": 40,
   "metadata": {
    "ExecuteTime": {
     "end_time": "2020-11-12T02:04:40.744776Z",
     "start_time": "2020-11-12T02:04:28.116511Z"
    }
   },
   "outputs": [
    {
     "name": "stdout",
     "output_type": "stream",
     "text": [
      "-3 6 6 7 8 9 12 12 12\n",
      "12\n",
      "6\n"
     ]
    }
   ],
   "source": [
    "def binary_search(mass, val):\n",
    "    if len(mass) == 0:\n",
    "        return '0-size array'\n",
    "    if sorted(mass) != mass and sorted(mass, reverse = True) != mass:\n",
    "        return 'incorrect input'\n",
    "    left = -1\n",
    "    right = len(mass)\n",
    "    check_sort = True if mass[0] < mass[1] else False\n",
    "    while left + 1 < right:\n",
    "        mid = int(left + (right - left)/2)\n",
    "        if val == mass[mid] or mass[mid - 1] == val:\n",
    "            while mass[mid - 1] == val and mid != 0:\n",
    "                mid -= 1\n",
    "            return mid\n",
    "        if val > mass[mid] ^ check_sort:\n",
    "            left = mid\n",
    "        else:\n",
    "            right = mid\n",
    "    return 'value not in mass'\n",
    "\n",
    "\n",
    "if __name__ == '__main__':\n",
    "    try:\n",
    "        mass = [int(ind) for ind in input().split()]\n",
    "        val = int(input())\n",
    "    except:\n",
    "        print('incorrect input!!!')\n",
    "    print(binary_search(mass, val))"
   ]
  },
  {
   "cell_type": "code",
   "execution_count": 45,
   "metadata": {
    "ExecuteTime": {
     "end_time": "2020-11-12T02:43:35.606624Z",
     "start_time": "2020-11-12T02:43:31.452188Z"
    }
   },
   "outputs": [
    {
     "name": "stdout",
     "output_type": "stream",
     "text": [
      "2 3 5 7\n",
      "4\n",
      "5\n",
      "2\n"
     ]
    }
   ],
   "source": [
    "def count_sum(nums):\n",
    "    return sum([ceil(ind/mid) for ind in nums])\n",
    "\n",
    "def binary_search(mass, val, num):\n",
    "    left, right = -1,len(mass)\n",
    "    check_sort = True if mass[0] < mass[1] else False\n",
    "    while left + 1 < right:\n",
    "        mid = int(left + (right - left)/2)\n",
    "        summ = \n",
    "        if count_sum(mass[mid]) <= num or count_sum(mass[mid]): \n",
    "            if mid == left + 1\n",
    "                return mass[mid]\n",
    "            else\n",
    "                right = mid + 1;\n",
    "\n",
    "\n",
    "if __name__ == '__main__':\n",
    "    try:\n",
    "        nums = [int(ind) for ind in input().split()]\n",
    "        val, num = int(input()), int(input())\n",
    "    except:\n",
    "        print('incorrect input!!!')\n",
    "    print(binary_search(range(mass[0], mass[-1], 1), val, num))"
   ]
  }
 ],
 "metadata": {
  "kernelspec": {
   "display_name": "Python 3",
   "language": "python",
   "name": "python3"
  },
  "language_info": {
   "codemirror_mode": {
    "name": "ipython",
    "version": 3
   },
   "file_extension": ".py",
   "mimetype": "text/x-python",
   "name": "python",
   "nbconvert_exporter": "python",
   "pygments_lexer": "ipython3",
   "version": "3.8.3"
  },
  "varInspector": {
   "cols": {
    "lenName": 16,
    "lenType": 16,
    "lenVar": 40
   },
   "kernels_config": {
    "python": {
     "delete_cmd_postfix": "",
     "delete_cmd_prefix": "del ",
     "library": "var_list.py",
     "varRefreshCmd": "print(var_dic_list())"
    },
    "r": {
     "delete_cmd_postfix": ") ",
     "delete_cmd_prefix": "rm(",
     "library": "var_list.r",
     "varRefreshCmd": "cat(var_dic_list()) "
    }
   },
   "types_to_exclude": [
    "module",
    "function",
    "builtin_function_or_method",
    "instance",
    "_Feature"
   ],
   "window_display": false
  }
 },
 "nbformat": 4,
 "nbformat_minor": 4
}
