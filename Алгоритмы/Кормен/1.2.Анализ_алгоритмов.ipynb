{
 "cells": [
  {
   "cell_type": "markdown",
   "metadata": {},
   "source": [
    "# Анализ алгоритмов"
   ]
  },
  {
   "cell_type": "markdown",
   "metadata": {},
   "source": [
    "1.2-1. Сортировка выборкой"
   ]
  },
  {
   "cell_type": "code",
   "execution_count": 14,
   "metadata": {
    "ExecuteTime": {
     "end_time": "2020-11-15T05:34:46.062941Z",
     "start_time": "2020-11-15T05:34:43.094703Z"
    }
   },
   "outputs": [
    {
     "name": "stdout",
     "output_type": "stream",
     "text": [
      "1 8 7 5 6 2\n",
      "[1, 2, 5, 6, 7, 8]\n"
     ]
    }
   ],
   "source": [
    "mass, result = [int(ind) for ind in input().split()], []\n",
    "n = len(mass)\n",
    "\n",
    "while len(result) != n:\n",
    "    elem = 1000000\n",
    "    for i in range(len(mass)):\n",
    "        if mass[i] < elem and mass[i] not in result:\n",
    "            elem = mass[i]\n",
    "    result.append(elem)  \n",
    "print(result)\n",
    "  "
   ]
  },
  {
   "cell_type": "markdown",
   "metadata": {
    "ExecuteTime": {
     "end_time": "2020-11-15T05:19:58.666917Z",
     "start_time": "2020-11-15T05:19:58.655092Z"
    }
   },
   "source": [
    "T(n) = $\\Omega(n^2)$ - когда массив отсортирован  \n",
    "T(n) = $O(n^2)$ - когда массив отсортирован по убыванию  \n",
    "T(n) = $\\Theta(n^2)$"
   ]
  },
  {
   "cell_type": "markdown",
   "metadata": {},
   "source": [
    "1.2-2. Линейный поиск."
   ]
  },
  {
   "cell_type": "markdown",
   "metadata": {},
   "source": [
    "В лучшем случае - 1 сравнение, в худшем - n сравнений. В среднем $\\frac{n+1}{2}$ сравнений.  \n",
    "Если 1 сравнение, то T(n) = $\\Omega(1)$.  \n",
    "В худшем случае T(n) = O(n).  \n",
    "Ассимптотику невозможно описать с помощью $\\Theta$. "
   ]
  },
  {
   "cell_type": "markdown",
   "metadata": {},
   "source": [
    "1.2-3.  \n",
    "$x_1, x_2, ..., x_n$ - найти два одинаковых числа.  "
   ]
  },
  {
   "cell_type": "markdown",
   "metadata": {},
   "source": [
    "Можем использовать сортировку за $\\Theta(n\\cdot log(n))$ и запустить линейный поиск.  "
   ]
  },
  {
   "cell_type": "markdown",
   "metadata": {},
   "source": [
    "1.2-4. Даны $a_1, a_2, ..., a_{n-1}$ и значение x, найти y."
   ]
  },
  {
   "cell_type": "code",
   "execution_count": 15,
   "metadata": {
    "ExecuteTime": {
     "end_time": "2020-11-15T06:06:04.297772Z",
     "start_time": "2020-11-15T06:05:53.088608Z"
    }
   },
   "outputs": [
    {
     "name": "stdout",
     "output_type": "stream",
     "text": [
      "1 2 2\n",
      "2\n",
      "13\n"
     ]
    }
   ],
   "source": [
    "inputs = [int(ind) for ind in input().split()]\n",
    "x = int(input())\n",
    "n = len(inputs)\n",
    "res = inputs[0]\n",
    "\n",
    "for i in range(1, n):\n",
    "    res += inputs[i] * x ** i\n",
    "print(res)"
   ]
  },
  {
   "cell_type": "markdown",
   "metadata": {},
   "source": [
    "1.2-5. T(n) = $\\frac{n^3}{1000} - 100\\cdot n^2 - 100\\cdot n + 3$"
   ]
  },
  {
   "cell_type": "markdown",
   "metadata": {},
   "source": [
    "Очевидно, T(n) = $O(n^3)$  \n",
    "Возьмем n/2:  \n",
    "$n^3/8000 -100\\cdot n^2/4 - 50\\cdot n + 3$.  \n",
    "T(n) = $\\Omega(n^3) \\Rightarrow T(n) = \\Theta(n^3)$"
   ]
  },
  {
   "cell_type": "markdown",
   "metadata": {},
   "source": [
    "1.2-6. Как минимум уменьшив объем данных вдвое, т.е. n2"
   ]
  }
 ],
 "metadata": {
  "kernelspec": {
   "display_name": "Python 3",
   "language": "python",
   "name": "python3"
  },
  "language_info": {
   "codemirror_mode": {
    "name": "ipython",
    "version": 3
   },
   "file_extension": ".py",
   "mimetype": "text/x-python",
   "name": "python",
   "nbconvert_exporter": "python",
   "pygments_lexer": "ipython3",
   "version": "3.8.3"
  },
  "varInspector": {
   "cols": {
    "lenName": 16,
    "lenType": 16,
    "lenVar": 40
   },
   "kernels_config": {
    "python": {
     "delete_cmd_postfix": "",
     "delete_cmd_prefix": "del ",
     "library": "var_list.py",
     "varRefreshCmd": "print(var_dic_list())"
    },
    "r": {
     "delete_cmd_postfix": ") ",
     "delete_cmd_prefix": "rm(",
     "library": "var_list.r",
     "varRefreshCmd": "cat(var_dic_list()) "
    }
   },
   "types_to_exclude": [
    "module",
    "function",
    "builtin_function_or_method",
    "instance",
    "_Feature"
   ],
   "window_display": false
  }
 },
 "nbformat": 4,
 "nbformat_minor": 4
}
