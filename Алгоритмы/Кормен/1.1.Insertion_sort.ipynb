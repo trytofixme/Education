{
 "cells": [
  {
   "cell_type": "markdown",
   "metadata": {},
   "source": [
    "# Insertion sort"
   ]
  },
  {
   "cell_type": "code",
   "execution_count": 3,
   "metadata": {
    "ExecuteTime": {
     "end_time": "2020-11-20T12:24:04.248221Z",
     "start_time": "2020-11-20T12:23:57.635404Z"
    }
   },
   "outputs": [
    {
     "name": "stdout",
     "output_type": "stream",
     "text": [
      "2 3 8 6 1\n",
      "5\n",
      "[1, 2, 3, 6, 8]\n"
     ]
    }
   ],
   "source": [
    "mass = [int(ind) for ind in input().split()]\n",
    "n = len(mass)\n",
    "def insertion_sort(mass):\n",
    "    count = 0\n",
    "    for j in range(1, n):\n",
    "        key = mass[j]\n",
    "        i = j - 1\n",
    "        while i >= 0 and mass[i] > key:\n",
    "            count += 1\n",
    "            mass[i + 1] = mass[i]\n",
    "            i -= 1\n",
    "        mass[i + 1] = key\n",
    "    print(count)\n",
    "    return mass\n",
    "print(insertion_sort(mass))\n"
   ]
  },
  {
   "cell_type": "markdown",
   "metadata": {},
   "source": [
    "Упражнения"
   ]
  },
  {
   "cell_type": "markdown",
   "metadata": {},
   "source": [
    "1.1-1. A = [31, 41, 59, 26, 41, 58], n = 6. \n",
    "\n",
    "\n",
    "Шаг 1:  \n",
    "j = 1; key = 41; i = 0;  \n",
    "mass[0] < key -> ничего не происходит.  \n",
    "\n",
    "Шаг 2:  \n",
    "j = 2; key = 59; i = 1;  \n",
    "mass[1] < key; mass[0] < key -> ничего не происходит.  \n",
    "\n",
    "Шаг 3:\n",
    "j = 3; key = 26; i = 2;  \n",
    "mass[2] > key -> mass[3] = mass[2]; i = 1; A = [31, 41, 59, 59, 41, 58]  \n",
    "mass[1] > key -> mass[2] = mass[1]; i = 0; A = [31, 41, 41, 59, 41, 58]  \n",
    "mass[0] > key -> mass[1] = mass[0]; i = -1; A = [31, 31, 41, 59, 41, 58]  \n",
    "mass[0] = key; A = [26, 31, 41, 59, 41, 58]  \n",
    "\n",
    "Шаг 4:\n",
    "j = 4; key = 41; i = 3;  \n",
    "mass[3] > key -> mass[4] = mass[3]; i = 2; A = [26, 31, 41, 41, 59, 58]  \n",
    "mass[2] == key -> break  \n",
    "mass[3] = key; A = [26, 31, 41, 41, 59, 58]  \n",
    "\n",
    "Шаг 5:\n",
    "j = 5; key = 58; i = 4;  \n",
    "mass[4] > key -> mass[5] = mass[4]; A = [26, 31, 41, 41, 59, 59]  \n",
    "mass[3] < key -> break  \n",
    "mass[4] = key; A = [26, 31, 41, 41, 58, 59]  \n",
    "\n",
    "A = [26, 31, 41, 41, 58, 59].\n",
    "\n"
   ]
  },
  {
   "cell_type": "markdown",
   "metadata": {},
   "source": [
    "1.1-2. Для убывания поменяем знак сравнения:"
   ]
  },
  {
   "cell_type": "code",
   "execution_count": null,
   "metadata": {},
   "outputs": [],
   "source": [
    "mass = [int(ind) for ind in input().split()]\n",
    "n = len(mass)\n",
    "for j in range(1, n):\n",
    "    key = mass[j]\n",
    "    i = j - 1\n",
    "    while i >= 0 and mass[i] < key:\n",
    "        mass[i + 1] = mass[i]\n",
    "        i -= 1\n",
    "    mass[i + 1] = key\n",
    "print(mass)"
   ]
  },
  {
   "cell_type": "markdown",
   "metadata": {},
   "source": [
    "1.1-3. Линейный поиск."
   ]
  },
  {
   "cell_type": "code",
   "execution_count": 15,
   "metadata": {
    "ExecuteTime": {
     "end_time": "2020-11-15T04:38:12.947673Z",
     "start_time": "2020-11-15T04:38:10.464918Z"
    }
   },
   "outputs": [
    {
     "name": "stdout",
     "output_type": "stream",
     "text": [
      "4 3 2 1\n",
      "6\n",
      "None\n"
     ]
    }
   ],
   "source": [
    "mass = [int(ind) for ind in input().split()]\n",
    "num = int(input())\n",
    "n = len(mass)\n",
    "ans = 0\n",
    "\n",
    "for i in range(n):\n",
    "    if n == mass[i]:\n",
    "        ans = i\n",
    "        break\n",
    "if ans != 0:\n",
    "    print(ans)\n",
    "else:\n",
    "    print(None)"
   ]
  },
  {
   "cell_type": "markdown",
   "metadata": {},
   "source": [
    "1.1-4. A, B - двоичный код, C = (A+B)"
   ]
  },
  {
   "cell_type": "code",
   "execution_count": 37,
   "metadata": {
    "ExecuteTime": {
     "end_time": "2020-11-15T05:06:44.024216Z",
     "start_time": "2020-11-15T05:06:37.987487Z"
    }
   },
   "outputs": [
    {
     "name": "stdout",
     "output_type": "stream",
     "text": [
      "1 0 1 0 1\n",
      "1 0 0 0 1\n",
      "[0, 0, 0, 0, 1, 0]\n",
      "[0, 0, 0, 0, 1, 0]\n",
      "2\n",
      "[0, 0, 0, 1, 1, 0]\n",
      "1\n",
      "[0, 0, 0, 1, 1, 0]\n",
      "[1, 0, 0, 1, 1, 0]\n",
      "[1, 0, 0, 1, 1, 0]\n"
     ]
    }
   ],
   "source": [
    "A, B = [int(ind1) for ind1 in input().split()], [int(ind1) for ind1 in input().split()]\n",
    "n = len(A)\n",
    "C = [0]*(n + 1)\n",
    "\n",
    "for i in range(n - 1, -1, -1):    \n",
    "    if (A[i] + B[i]) < 2 and C[i + 1] != 1:\n",
    "        C[i + 1] = A[i] + B[i]\n",
    "    if (A[i] + B[i]) == 2 and C[i + 1] != 1:\n",
    "        C[i + 1] = 0\n",
    "        C[i] = 1\n",
    "print(C)\n",
    "    "
   ]
  }
 ],
 "metadata": {
  "kernelspec": {
   "display_name": "Python 3",
   "language": "python",
   "name": "python3"
  },
  "language_info": {
   "codemirror_mode": {
    "name": "ipython",
    "version": 3
   },
   "file_extension": ".py",
   "mimetype": "text/x-python",
   "name": "python",
   "nbconvert_exporter": "python",
   "pygments_lexer": "ipython3",
   "version": "3.8.3"
  },
  "varInspector": {
   "cols": {
    "lenName": 16,
    "lenType": 16,
    "lenVar": 40
   },
   "kernels_config": {
    "python": {
     "delete_cmd_postfix": "",
     "delete_cmd_prefix": "del ",
     "library": "var_list.py",
     "varRefreshCmd": "print(var_dic_list())"
    },
    "r": {
     "delete_cmd_postfix": ") ",
     "delete_cmd_prefix": "rm(",
     "library": "var_list.r",
     "varRefreshCmd": "cat(var_dic_list()) "
    }
   },
   "types_to_exclude": [
    "module",
    "function",
    "builtin_function_or_method",
    "instance",
    "_Feature"
   ],
   "window_display": false
  }
 },
 "nbformat": 4,
 "nbformat_minor": 4
}
