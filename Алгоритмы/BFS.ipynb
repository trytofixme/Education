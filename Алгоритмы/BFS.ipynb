{
 "cells": [
  {
   "cell_type": "code",
   "execution_count": 36,
   "metadata": {
    "ExecuteTime": {
     "end_time": "2020-11-05T18:43:14.298987Z",
     "start_time": "2020-11-05T18:43:14.288913Z"
    }
   },
   "outputs": [
    {
     "name": "stdout",
     "output_type": "stream",
     "text": [
      "[3, 4]\n"
     ]
    }
   ],
   "source": [
    "from queue import Queue\n",
    "#Белые - не посещенные, Серые - посещенные, Черные - уже зафиксированные\n",
    "result, data, colour, destination, ancestors ={}, [], {}, {}, {} \n",
    "# Словарь с вершина - результат BFS, массив вершин, цвет вершин, расстояние между вершинами, предки\n",
    "mass, n = [[3,0],[3,1],[3,2],[3,4],[5,4]], 6 # Данныe\n",
    "infty = 9223372036854775807\n",
    "if n > 1:\n",
    "    for el in mass:\n",
    "        for u in el:\n",
    "            if u not in data:\n",
    "                data.append(u)\n",
    "    for x in data:\n",
    "        if x in result.keys():\n",
    "            next\n",
    "        for el in data:\n",
    "            colour[el] = 'Белый' #Пометим все ребра белыми\n",
    "            ancestors[el] = None\n",
    "            destination[el] = infty\n",
    "        start_pos = x\n",
    "        colour[start_pos] = 'Серый'\n",
    "        destination[start_pos] = 0\n",
    "\n",
    "\n",
    "        q = Queue() # Здесь храним серые вершины\n",
    "        q.put(start_pos)\n",
    "        while not q.empty():\n",
    "            get = q.get() #Извлекаем из очереди\n",
    "            for el in mass:\n",
    "                for u in el:\n",
    "                    if u != get and get in el and colour[u] == 'Белый':\n",
    "                        #Если вершина в (u, v), u не совпадает с v, u еще не открыта\n",
    "                        q.put(u) #Кладем в очередь\n",
    "                        colour[u] = 'Серый' #Помечаем как открытую\n",
    "                        destination[u] = destination[get] + 1 \n",
    "            colour[get] = 'Черный' #Закрываем вершину\n",
    "        result[start_pos] = max(destination.values())\n",
    "        # Добавляем вершину - максимальную ширину обхода дерева\n",
    "    print([x for x, y in result.items() if y == min(result.values())])\n",
    "else:                           \n",
    "    print(0)\n",
    "    "
   ]
  }
 ],
 "metadata": {
  "kernelspec": {
   "display_name": "Python 3",
   "language": "python",
   "name": "python3"
  },
  "language_info": {
   "codemirror_mode": {
    "name": "ipython",
    "version": 3
   },
   "file_extension": ".py",
   "mimetype": "text/x-python",
   "name": "python",
   "nbconvert_exporter": "python",
   "pygments_lexer": "ipython3",
   "version": "3.8.3"
  },
  "varInspector": {
   "cols": {
    "lenName": 16,
    "lenType": 16,
    "lenVar": 40
   },
   "kernels_config": {
    "python": {
     "delete_cmd_postfix": "",
     "delete_cmd_prefix": "del ",
     "library": "var_list.py",
     "varRefreshCmd": "print(var_dic_list())"
    },
    "r": {
     "delete_cmd_postfix": ") ",
     "delete_cmd_prefix": "rm(",
     "library": "var_list.r",
     "varRefreshCmd": "cat(var_dic_list()) "
    }
   },
   "types_to_exclude": [
    "module",
    "function",
    "builtin_function_or_method",
    "instance",
    "_Feature"
   ],
   "window_display": false
  }
 },
 "nbformat": 4,
 "nbformat_minor": 4
}
