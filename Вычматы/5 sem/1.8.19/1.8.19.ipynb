{
 "cells": [
  {
   "cell_type": "markdown",
   "metadata": {},
   "source": [
    "# Семенов Никита, Б03-909"
   ]
  },
  {
   "cell_type": "markdown",
   "metadata": {},
   "source": [
    "## 1.8.19"
   ]
  },
  {
   "cell_type": "markdown",
   "metadata": {},
   "source": [
    "Пусть для вычисления функции $u = f(t)$ используется частичная сумма ряда Маклорена\n",
    "$$u(t)\\approx u(0) + \\frac{u'(0)}{1!}t + ... + \\frac{u^{(n)}(0)}{n!}t^n$$\n",
    "причем аргумент задан с погрешностью $\\Delta t = 10^{–3}.$\n",
    "\n",
    "\n",
    "Найти $n$ такое, чтобы погрешность в определении функции $u(t)$ по\n",
    "данной формуле не превышала $\\Delta t$. Рассмотреть отрезки $t \\in [0, 1],\\ t \\in [10,11]$. Предложить более совершенный алгоритм для вычисления функций $u(t) = \\sin t,\\ u(t) = e^t$ на отрезке $t\\in [10, 11]$."
   ]
  },
  {
   "cell_type": "code",
   "execution_count": 2,
   "metadata": {},
   "outputs": [],
   "source": [
    "import numpy as np\n",
    "from sympy import *\n",
    "from scipy.special import factorial"
   ]
  },
  {
   "cell_type": "markdown",
   "metadata": {},
   "source": [
    "### Зададим функцию"
   ]
  },
  {
   "cell_type": "code",
   "execution_count": 7,
   "metadata": {
    "scrolled": true
   },
   "outputs": [
    {
     "name": "stdout",
     "output_type": "stream",
     "text": [
      "sint\n"
     ]
    }
   ],
   "source": [
    "t = Symbol('t')\n",
    "userInput = input()\n",
    "try:\n",
    "    u = sympify(userInput)\n",
    "except:\n",
    "    print('You are input non-standard function, try another')\n",
    "\n",
    "t1 = np.linspace(0.01, 1, 1000)\n",
    "t2 = np.linspace(10, 11, 1000)"
   ]
  },
  {
   "cell_type": "code",
   "execution_count": 4,
   "metadata": {},
   "outputs": [],
   "source": [
    "def calculate(u, arg, abs_error=1e-3):\n",
    "    true_value = lambdify(t, u, 'numpy')(arg)\n",
    "    res = lambdify(t, u, 'numpy')(np.zeros(1000))\n",
    "    n = 1\n",
    "    while (np.all(np.abs(true_value - res) > abs_error)):\n",
    "        res += lambdify(t, u.diff(), 'numpy')(np.zeros(1000)) / factorial(n)\n",
    "        u = u.diff()\n",
    "        n += 1\n",
    "    return n"
   ]
  },
  {
   "cell_type": "code",
   "execution_count": 5,
   "metadata": {},
   "outputs": [
    {
     "data": {
      "text/plain": [
       "1"
      ]
     },
     "execution_count": 5,
     "metadata": {},
     "output_type": "execute_result"
    }
   ],
   "source": [
    "calculate(u, t1)\n"
   ]
  },
  {
   "cell_type": "code",
   "execution_count": 6,
   "metadata": {},
   "outputs": [
    {
     "data": {
      "text/plain": [
       "1"
      ]
     },
     "execution_count": 6,
     "metadata": {},
     "output_type": "execute_result"
    }
   ],
   "source": [
    "calculate(u, t2)"
   ]
  }
 ],
 "metadata": {
  "kernelspec": {
   "display_name": "Python 3",
   "language": "python",
   "name": "python3"
  },
  "language_info": {
   "codemirror_mode": {
    "name": "ipython",
    "version": 3
   },
   "file_extension": ".py",
   "mimetype": "text/x-python",
   "name": "python",
   "nbconvert_exporter": "python",
   "pygments_lexer": "ipython3",
   "version": "3.8.5"
  }
 },
 "nbformat": 4,
 "nbformat_minor": 4
}
