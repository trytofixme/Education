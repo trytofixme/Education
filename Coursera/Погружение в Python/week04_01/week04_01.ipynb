{
 "cells": [
  {
   "cell_type": "code",
   "execution_count": 201,
   "metadata": {
    "ExecuteTime": {
     "end_time": "2020-10-09T15:51:53.792528Z",
     "start_time": "2020-10-09T15:51:53.784794Z"
    }
   },
   "outputs": [],
   "source": [
    "import tempfile\n",
    "from os import path\n",
    "import uuid\n",
    "\n",
    "class File:\n",
    "    def __init__(self, path_to_file):\n",
    "        self._path = path_to_file\n",
    "        if not path.exists(self._path):\n",
    "            open(self._path, 'w').close()\n",
    "        \n",
    "    def read(self):\n",
    "        with open(self._path, 'r') as f:\n",
    "            return f.read()\n",
    "    def write(self, text):\n",
    "        with open(self._path, 'w') as f:\n",
    "            f.write(text)\n",
    "    \n",
    "    def __add__(self, other):\n",
    "        new_file = File(path.join(tempfile.gettempdir(), \"{}.txt\".format(str(uuid.uuid4()))))\n",
    "        new_file.write(self.read() + other.read())\n",
    "        return new_file\n",
    "    \n",
    "    def __iter__(self):\n",
    "        self._start = 0\n",
    "        with open(self._path, \"r\") as f:\n",
    "            self._lines = f.readlines()\n",
    "        return self\n",
    "    def __next__(self):\n",
    "        try:\n",
    "            line = self._lines[self._start]\n",
    "            self._start += 1\n",
    "            return line\n",
    "        except IndexError:\n",
    "            raise StopIteration\n",
    "    def __str__(self):\n",
    "        return self._path\n",
    "    "
   ]
  }
 ],
 "metadata": {
  "kernelspec": {
   "display_name": "Python 3",
   "language": "python",
   "name": "python3"
  },
  "language_info": {
   "codemirror_mode": {
    "name": "ipython",
    "version": 3
   },
   "file_extension": ".py",
   "mimetype": "text/x-python",
   "name": "python",
   "nbconvert_exporter": "python",
   "pygments_lexer": "ipython3",
   "version": "3.8.3"
  },
  "varInspector": {
   "cols": {
    "lenName": 16,
    "lenType": 16,
    "lenVar": 40
   },
   "kernels_config": {
    "python": {
     "delete_cmd_postfix": "",
     "delete_cmd_prefix": "del ",
     "library": "var_list.py",
     "varRefreshCmd": "print(var_dic_list())"
    },
    "r": {
     "delete_cmd_postfix": ") ",
     "delete_cmd_prefix": "rm(",
     "library": "var_list.r",
     "varRefreshCmd": "cat(var_dic_list()) "
    }
   },
   "types_to_exclude": [
    "module",
    "function",
    "builtin_function_or_method",
    "instance",
    "_Feature"
   ],
   "window_display": false
  }
 },
 "nbformat": 4,
 "nbformat_minor": 4
}
