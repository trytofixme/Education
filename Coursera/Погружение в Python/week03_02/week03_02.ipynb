{
 "cells": [
  {
   "cell_type": "raw",
   "metadata": {},
   "source": []
  },
  {
   "cell_type": "code",
   "execution_count": 4,
   "metadata": {
    "ExecuteTime": {
     "end_time": "2020-10-09T08:06:21.690705Z",
     "start_time": "2020-10-09T08:06:21.672309Z"
    }
   },
   "outputs": [
    {
     "name": "stdout",
     "output_type": "stream",
     "text": [
      "['', 'png'] 2\n",
      "['f3', 'jpeg'] 2\n",
      "['f12', 'jpeg', 'txt'] 3\n",
      "[<__main__.Car object at 0x1168fca30>]\n"
     ]
    }
   ],
   "source": [
    "import os.path\n",
    "import csv\n",
    "import collections\n",
    "\n",
    "class CarBase:\n",
    "    def __init__(self, brand, photo_file_name, carrying):        \n",
    "        self.brand = brand        \n",
    "        self.photo_file_name = photo_file_name\n",
    "        self.carrying = float(carrying)\n",
    "            \n",
    "    def get_photo_file_ext(self):\n",
    "        return os.path.splitext(self.photo_file_name)[1]\n",
    "\n",
    "\n",
    "class Car(CarBase):\n",
    "    def __init__(self, brand, photo_file_name, carrying, passenger_seats_count):\n",
    "        super().__init__(brand, photo_file_name, carrying)        \n",
    "        self.passenger_seats_count = int(passenger_seats_count)\n",
    "        self.car_type = 'car'\n",
    "\n",
    "\n",
    "class Truck(CarBase):\n",
    "    def __init__(self, brand, photo_file_name, carrying, body_whl):\n",
    "        super().__init__(brand, photo_file_name, carrying)  \n",
    "        self.car_type = 'truck'\n",
    "        if body_whl != '' and isinstance(body_whl, str) and collections.Counter(body_whl)['x'] == 2:\n",
    "            tmp = body_whl.split('x')\n",
    "            data = []\n",
    "            for x in tmp:\n",
    "                if x.isdigit():\n",
    "                    data.append(True)\n",
    "                else:\n",
    "                    try:\n",
    "                        float(x)\n",
    "                        data.append(True)\n",
    "                    except ValueError:\n",
    "                        data.append(False)\n",
    "            if data[0] is True and data[1] is True and data[2] is True:\n",
    "                self.body_length = float(tmp[0])\n",
    "                self.body_width = float(tmp[1])\n",
    "                self.body_height = float(tmp[2])\n",
    "            else:\n",
    "                self.body_length = 0.0\n",
    "                self.body_width = 0.0\n",
    "                self.body_height = 0.0\n",
    "        else:\n",
    "            self.body_length = 0.0\n",
    "            self.body_width = 0.0\n",
    "            self.body_height = 0.0\n",
    "                \n",
    "    def get_body_volume(self):\n",
    "        return self.body_length * self.body_width * self.body_height\n",
    "        \n",
    "\n",
    "class SpecMachine(CarBase):\n",
    "    def __init__(self, brand, photo_file_name, carrying, extra):\n",
    "        super().__init__(brand, photo_file_name, carrying)\n",
    "        self.extra = extra\n",
    "        self.car_type = 'spec_machine'\n",
    "        \n",
    "        \n",
    "def get_car_list(csv_filename):\n",
    "    with open(csv_filename) as csv_fd:\n",
    "        reader = csv.reader(csv_fd, delimiter=';')\n",
    "        next(reader)\n",
    "        car_list = []\n",
    "        for row in reader:            \n",
    "            try:\n",
    "                if row[1] == '' or row[3] == '' or row[5] == '' or row[0] == '' or row[0] not in ['car', 'truck', 'spec_machine']\\\n",
    "                or row[3].isdigit() or not isinstance(float(row[5]), float) or row[1].isdigit():\n",
    "                    raise ValueError\n",
    "                tmp = row[3].split('.')                \n",
    "                if not tmp[1] in ['jpg', 'jpeg', 'png', 'gif'] or tmp[0] == '' or len(tmp) != 2:                       \n",
    "                    raise IndexError\n",
    "            except (ValueError, IndexError):\n",
    "                pass\n",
    "            else:\n",
    "                if row[0] == 'car':\n",
    "                    try:\n",
    "                        if not isinstance(int(row[2]), int):\n",
    "                            raise ValueError\n",
    "                    except ValueError:                            \n",
    "                        pass\n",
    "                    else:\n",
    "                        car_list.append(Car(row[1], row[3], row[5], row[2]))\n",
    "                elif row[0] == 'truck':       \n",
    "                    car_list.append(Truck(row[1], row[3], row[5], row[4]))\n",
    "                else:\n",
    "                    try:\n",
    "                        if row[6] == '':\n",
    "                            raise IndexError and ValueError\n",
    "                    except (IndexError, ValueError):        \n",
    "                        pass\n",
    "                    else:\n",
    "                        car_list.append(SpecMachine(row[1], row[3], row[5], row[6]))\n",
    "    return car_list\n",
    "#print(get_car_list('_af3947bf3a1ba3333b0c891e7a8536fc_coursera_week3_cars.csv'))"
   ]
  },
  {
   "cell_type": "code",
   "execution_count": 97,
   "metadata": {
    "ExecuteTime": {
     "end_time": "2020-10-08T23:03:37.971607Z",
     "start_time": "2020-10-08T23:03:37.965285Z"
    }
   },
   "outputs": [
    {
     "name": "stdout",
     "output_type": "stream",
     "text": [
      "['123', 'jp', 'sd']\n"
     ]
    }
   ],
   "source": [
    "a = '123.jp.sd'\n",
    "print(a.split('.'))"
   ]
  }
 ],
 "metadata": {
  "kernelspec": {
   "display_name": "Python 3",
   "language": "python",
   "name": "python3"
  },
  "language_info": {
   "codemirror_mode": {
    "name": "ipython",
    "version": 3
   },
   "file_extension": ".py",
   "mimetype": "text/x-python",
   "name": "python",
   "nbconvert_exporter": "python",
   "pygments_lexer": "ipython3",
   "version": "3.8.3"
  },
  "varInspector": {
   "cols": {
    "lenName": 16,
    "lenType": 16,
    "lenVar": 40
   },
   "kernels_config": {
    "python": {
     "delete_cmd_postfix": "",
     "delete_cmd_prefix": "del ",
     "library": "var_list.py",
     "varRefreshCmd": "print(var_dic_list())"
    },
    "r": {
     "delete_cmd_postfix": ") ",
     "delete_cmd_prefix": "rm(",
     "library": "var_list.r",
     "varRefreshCmd": "cat(var_dic_list()) "
    }
   },
   "types_to_exclude": [
    "module",
    "function",
    "builtin_function_or_method",
    "instance",
    "_Feature"
   ],
   "window_display": false
  }
 },
 "nbformat": 4,
 "nbformat_minor": 4
}
