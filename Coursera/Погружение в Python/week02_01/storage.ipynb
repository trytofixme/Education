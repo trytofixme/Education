{
 "cells": [
  {
   "cell_type": "code",
   "execution_count": 23,
   "metadata": {
    "ExecuteTime": {
     "end_time": "2020-10-09T17:53:06.116126Z",
     "start_time": "2020-10-09T17:53:06.106508Z"
    }
   },
   "outputs": [
    {
     "name": "stdout",
     "output_type": "stream",
     "text": [
      "None\n"
     ]
    }
   ],
   "source": [
    "import tempfile\n",
    "import argparse\n",
    "import os\n",
    "import json\n",
    "import os.path\n",
    "\n",
    "storage_path = os.path.join(tempfile.gettempdir(), 'storage.data')\n",
    " \n",
    "check_file = os.path.exists(storage_path)\n",
    "\n",
    "if check_file:\n",
    "    parser = argparse.ArgumentParser()\n",
    "    parser.add_argument(\"--key\")\n",
    "    parser.add_argument(\"--value\")\n",
    "    parser.add_argument('--clear', action='store_true')\n",
    "    args = parser.parse_args()\n",
    "    if args.key and args.value:\n",
    "        try:\n",
    "            with open(STORAGE_PATH, 'r') as f:\n",
    "                mass = f.read()\n",
    "                if mass:\n",
    "                    data = json.loads(mass)\n",
    "        except Exception:\n",
    "            data = []\n",
    "        if args.key in data:\n",
    "            data[args.key].append(args.value)\n",
    "        else:\n",
    "            data[args.key] = [args.value]\n",
    "        with open(storage_path, 'w') as f:\n",
    "            f.write(josn.dumps(data))\n",
    "    if args.key and not args.value:\n",
    "        try:\n",
    "            with open(STORAGE_PATH, 'r') as f:\n",
    "                mass = f.read()\n",
    "                if mass:\n",
    "                    data = json.loads(mass)\n",
    "        except Exception:\n",
    "            data = []\n",
    "        if args.key in data:\n",
    "            with open(storage_path, 'w') as f:\n",
    "                f.write(josn.dumps(data[args.key]))\n",
    "        else:\n",
    "            print(None)\n",
    "    if args.clear:\n",
    "        os.remove(storage_path)\n",
    "else:\n",
    "    print(None)"
   ]
  }
 ],
 "metadata": {
  "kernelspec": {
   "display_name": "Python 3",
   "language": "python",
   "name": "python3"
  },
  "language_info": {
   "codemirror_mode": {
    "name": "ipython",
    "version": 3
   },
   "file_extension": ".py",
   "mimetype": "text/x-python",
   "name": "python",
   "nbconvert_exporter": "python",
   "pygments_lexer": "ipython3",
   "version": "3.8.3"
  },
  "varInspector": {
   "cols": {
    "lenName": 16,
    "lenType": 16,
    "lenVar": 40
   },
   "kernels_config": {
    "python": {
     "delete_cmd_postfix": "",
     "delete_cmd_prefix": "del ",
     "library": "var_list.py",
     "varRefreshCmd": "print(var_dic_list())"
    },
    "r": {
     "delete_cmd_postfix": ") ",
     "delete_cmd_prefix": "rm(",
     "library": "var_list.r",
     "varRefreshCmd": "cat(var_dic_list()) "
    }
   },
   "types_to_exclude": [
    "module",
    "function",
    "builtin_function_or_method",
    "instance",
    "_Feature"
   ],
   "window_display": false
  }
 },
 "nbformat": 4,
 "nbformat_minor": 4
}
