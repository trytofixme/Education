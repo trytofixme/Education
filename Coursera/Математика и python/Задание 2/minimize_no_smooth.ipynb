{
 "cells": [
  {
   "cell_type": "code",
   "execution_count": 77,
   "metadata": {},
   "outputs": [
    {
     "data": {
      "image/png": "[encoded data removed]",
      "text/plain": [
       "<Figure size 432x288 with 1 Axes>"
      ]
     },
     "metadata": {
      "needs_background": "light"
     },
     "output_type": "display_data"
    }
   ],
   "source": [
    "from scipy.optimize import differential_evolution\n",
    "from matplotlib import pylab as plt\n",
    "import numpy as np\n",
    "from scipy.optimize import minimize\n",
    "\n",
    "\n",
    "def f(x):\n",
    "    return np.sin(x / 5) * np.exp(x / 10) + 5 * np.exp(-x / 2)\n",
    "    \n",
    "def h(x):\n",
    "    return f(x).astype(int)\n",
    "\n",
    "\n",
    "x = np.arange(1, 31, 1)\n",
    "\n",
    "plt.plot(x, h(x))\n",
    "plt.show()\n",
    "\n",
    "\n",
    "ans1 = round(minimize(h, 30.0, method = 'BFGS').fun, 2)\n",
    "ans2 = differential_evolution(h, bounds=[(1, 30)])\n",
    "\n",
    "q = open('submission-3.txt', 'w')\n",
    "q.write(str(ans1) + ' ' + str(round(ans2.fun, 2)))\n",
    "q.close()"
   ]
  },
  {
   "cell_type": "code",
   "execution_count": null,
   "metadata": {},
   "outputs": [],
   "source": []
  },
  {
   "cell_type": "code",
   "execution_count": null,
   "metadata": {},
   "outputs": [],
   "source": []
  },
  {
   "cell_type": "code",
   "execution_count": null,
   "metadata": {},
   "outputs": [],
   "source": []
  }
 ],
 "metadata": {
  "kernelspec": {
   "display_name": "Python 3",
   "language": "python",
   "name": "python3"
  },
  "language_info": {
   "codemirror_mode": {
    "name": "ipython",
    "version": 3
   },
   "file_extension": ".py",
   "mimetype": "text/x-python",
   "name": "python",
   "nbconvert_exporter": "python",
   "pygments_lexer": "ipython3",
   "version": "3.8.3"
  }
 },
 "nbformat": 4,
 "nbformat_minor": 4
}
