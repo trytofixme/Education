{
 "cells": [
  {
   "cell_type": "code",
   "execution_count": 5,
   "metadata": {
    "ExecuteTime": {
     "end_time": "2021-01-24T19:38:58.278235Z",
     "start_time": "2021-01-24T19:38:58.009882Z"
    }
   },
   "outputs": [
    {
     "name": "stdout",
     "output_type": "stream",
     "text": [
      "Время покупки: 110200.0\n",
      "Дата покупки: 20150929.0\n",
      "Стоимость покупки: 687.0\n",
      "\n",
      "Время продажи: 163400.0\n",
      "Дата продажи: 20160728.0\n",
      "Стоимость продажи: 1543.0\n",
      "\n",
      "Изменение стоимости акций: 856.0\n"
     ]
    }
   ],
   "source": [
    "#Пункт 1\n",
    "\"\"\"\n",
    "Я буду считать что одна транзакция купли-продажи - это покупка + продажа в независимых моментах времени.\n",
    "Стратегия простая: достигли минимума - покупаем, достигли максимума - продаем\n",
    "\"\"\"\n",
    "import pandas as pd\n",
    "\n",
    "\n",
    "# Считаем файл\n",
    "df = pd.read_csv('new.csv')\n",
    "# Найдем максимум и минимум по прайсу\n",
    "minimum = min(df['price'])\n",
    "maximum = max(df['price'])\n",
    "\n",
    "\n",
    "class Bank_account:\n",
    "    def __init__(self):\n",
    "        # Контейнер отвечает за инфу(дата, время, прайс, операция)\n",
    "        self._bank_account_info = []\n",
    "    \n",
    "    # Покупка акций\n",
    "    def buy(self, price_now):\n",
    "        # Методы, используемые библиотекой pandas такие:\n",
    "        # Смотрим датасет, в котором price сравним с нашим, выбираем оттуда значение времени и тд\n",
    "        self._bank_account_info.append([df.loc[df['price'] == price_now].iloc[0, :].time, \n",
    "                                       df.loc[df['price'] == price_now].iloc[0, :].date,\n",
    "                                       price_now, \n",
    "                                       'buy'])\n",
    "    \n",
    "    # Продажа акций\n",
    "    def sell(self, price_now):\n",
    "        self._bank_account_info.append([df.loc[df['price'] == price_now].iloc[0, :].time, \n",
    "                                 df.loc[df['price'] == price_now].iloc[0, :].date, \n",
    "                                 price_now, \n",
    "                                 'sell'])\n",
    "        \n",
    "    # Вывод информации\n",
    "    def get_info(self):\n",
    "        for elements in self._bank_account_info:\n",
    "            if elements[3] == 'buy':                \n",
    "                print('Время покупки:', elements[0])\n",
    "                print('Дата покупки:', elements[1])\n",
    "                print('Стоимость покупки:', elements[2])\n",
    "                print()\n",
    "            else:\n",
    "                print('Время продажи:', elements[0])\n",
    "                print('Дата продажи:', elements[1])\n",
    "                print('Стоимость продажи:', elements[2])\n",
    "                print()\n",
    "        print('Изменение стоимости акций:', \n",
    "            abs(self._bank_account_info[0][2] - self._bank_account_info[1][2]))\n",
    "\n",
    "if __name__ == '__main__':\n",
    "    # Заводим аккаунт\n",
    "    bank = Bank_account()\n",
    "    # Покупаем в минимуме\n",
    "    bank.buy(minimum)\n",
    "    # Продаем в максимуме\n",
    "    bank.sell(maximum)\n",
    "    # Получаем инфу\n",
    "    bank.get_info()"
   ]
  }
 ],
 "metadata": {
  "kernelspec": {
   "display_name": "Python 3",
   "language": "python",
   "name": "python3"
  },
  "language_info": {
   "codemirror_mode": {
    "name": "ipython",
    "version": 3
   },
   "file_extension": ".py",
   "mimetype": "text/x-python",
   "name": "python",
   "nbconvert_exporter": "python",
   "pygments_lexer": "ipython3",
   "version": "3.8.3"
  },
  "varInspector": {
   "cols": {
    "lenName": 16,
    "lenType": 16,
    "lenVar": 40
   },
   "kernels_config": {
    "python": {
     "delete_cmd_postfix": "",
     "delete_cmd_prefix": "del ",
     "library": "var_list.py",
     "varRefreshCmd": "print(var_dic_list())"
    },
    "r": {
     "delete_cmd_postfix": ") ",
     "delete_cmd_prefix": "rm(",
     "library": "var_list.r",
     "varRefreshCmd": "cat(var_dic_list()) "
    }
   },
   "types_to_exclude": [
    "module",
    "function",
    "builtin_function_or_method",
    "instance",
    "_Feature"
   ],
   "window_display": false
  }
 },
 "nbformat": 4,
 "nbformat_minor": 4
}
