{
 "cells": [
  {
   "cell_type": "code",
   "execution_count": 15,
   "metadata": {
    "ExecuteTime": {
     "end_time": "2021-01-25T17:16:43.967227Z",
     "start_time": "2021-01-25T17:16:43.950807Z"
    }
   },
   "outputs": [],
   "source": [
    "from random import randint\n",
    "\"\"\"\n",
    "Для начала будем генерировать клетки 3х3(блоки), \n",
    "для этого зададим отдельный класс со своими правилами\n",
    "\"\"\"\n",
    "\n",
    "class Block(object):\n",
    "    # Инициализация блока 3х3\n",
    "    def __init__(self):\n",
    "        self._block_size = 9\n",
    "        self._block = [None] * self._block_size\n",
    "    \n",
    "    \n",
    "    # Затем нам нужен геттер и сеттер\n",
    "    # Геттер для всего блока\n",
    "    def get_block(self):\n",
    "        return self._block\n",
    "\n",
    "    \n",
    "    # Геттер для заданной позиции(если мы представим блок в виде матрицы 3х3\n",
    "    # то pos - пара значений (x, y), где x и y лежат от 0 до 2 включительно\n",
    "    def __getitem__(self, pos):\n",
    "        if pos[0] in range(3) and pos[1] in range(3):\n",
    "            return self._block[pos[1] + 3 * pos[0]]\n",
    "        else:\n",
    "            raise KeyError('incorrect position')\n",
    "            return\n",
    "    \n",
    "    \n",
    "    # Теперь определим сеттер\n",
    "    def __setitem__(self, pos, val):\n",
    "        if val not in range(1, 10):\n",
    "            raise ValueError('incorrect value')\n",
    "            return\n",
    "        elif val in self._block and val is not None:\n",
    "            raise ValueError('value already in block')\n",
    "            return\n",
    "        else:\n",
    "            self._block[pos[1] + 3 * pos[0]] = val\n",
    "    \n",
    "    \n",
    "class Sudoku(object):\n",
    "    def __init__(self):\n",
    "        self._cell_size = 9\n",
    "        self._field_size = 81\n",
    "        self._filename = 'sudoku.pkl'\n",
    "        self._field = [[5, 3, None, None, 7, None, None, None, None],\n",
    "                       [6, None, None, 1, 9, 5, None, None, None],\n",
    "                       [None, 9, 8, None, None, None, None, 6, None],\n",
    "                       [8, None, None, None, 6, None, None, None, 3],\n",
    "                       [4, None, None, 8, None, 3, None, None, 1],\n",
    "                       [7, None, None, None, 2, None, None, None, 6],\n",
    "                       [None, 6, None, None, None, None, 2, 8, None],\n",
    "                       [None, None, None, 4, 1, 9, None, None, 5],\n",
    "                       [None, None, None, None, 8, None, None, 7, 9]]\n",
    "    \n",
    "    def possible(self, x, y, n):\n",
    "        for i in range(0, 9):\n",
    "            if self._field[y][i] == n:\n",
    "                return False\n",
    "        for i in range(0, 9):\n",
    "            if self._field[x][i] == n:\n",
    "                return False\n",
    "        x0 = (x // 3) * 3\n",
    "        y0 = (y // 3) * 3\n",
    "        for i in range(0, 3):\n",
    "            for j in range(0, 3):\n",
    "                if self._field[y0 + i][x0 + j] == n:\n",
    "                    return False\n",
    "        return True\n",
    "    \n",
    "    def solver(self):\n",
    "        for y in range(9):\n",
    "            for x in range(9):\n",
    "                if self._field[y][x] is None:\n",
    "                    for n in range(1, 10):\n",
    "                        if possible(x, y, n):\n",
    "                            self._field[y][x] = n\n",
    "                            solver()\n",
    "                            self._field[y][x] = None\n",
    "                return \n",
    "        print(self._field)\n",
    "        \n",
    "    def get_field(self):\n",
    "        return self._field\n",
    "    \n",
    "    \n",
    "    def update(self):\n",
    "        pass\n",
    "        \n",
    "    \n",
    "    def save(self):\n",
    "        pass\n",
    "    \n",
    "    \n",
    "    def clear(self):\n",
    "        for block in self._field:\n",
    "            block = [0] * self._cell_size\n",
    "\n",
    "sud = Sudoku()\n",
    "sud.solver()\n",
    "\n",
    "\n"
   ]
  },
  {
   "cell_type": "code",
   "execution_count": 25,
   "metadata": {
    "ExecuteTime": {
     "end_time": "2021-01-25T17:24:29.510032Z",
     "start_time": "2021-01-25T17:24:29.503984Z"
    }
   },
   "outputs": [],
   "source": [
    "field = [[5, 3, 0, 0, 7, 0, 0, 0, 0],\n",
    "                       [6, 0, 0, 1, 9, 5, 0, 0, 0],\n",
    "                       [0, 9, 8, 0, 0, 0, 0, 6, 0],\n",
    "                       [8, 0, 0, 0, 6, 0, 0, 0, 3],\n",
    "                       [4, 0, 0, 8, 0, 3, 0, 0, 1],\n",
    "                       [7, 0, 0, 0, 2, 0, 0, 0, 6],\n",
    "                       [0, 6, 0, 0, 0, 0, 2, 8, 0],\n",
    "                       [0, 0, 0, 4, 1, 9, 0, 0, 5],\n",
    "                       [0, 0, 0, 0, 8, 0, 0, 7, 9]]"
   ]
  },
  {
   "cell_type": "code",
   "execution_count": 30,
   "metadata": {
    "ExecuteTime": {
     "end_time": "2021-01-25T17:28:08.909023Z",
     "start_time": "2021-01-25T17:28:08.761462Z"
    }
   },
   "outputs": [
    {
     "name": "stdout",
     "output_type": "stream",
     "text": [
      "1\n",
      "[[5, 3, 4, 6, 7, 8, 9, 1, 2], [6, 7, 2, 1, 9, 5, 3, 4, 8], [1, 9, 8, 3, 4, 2, 5, 6, 7], [8, 5, 9, 7, 6, 1, 4, 2, 3], [4, 2, 6, 8, 5, 3, 7, 9, 1], [7, 1, 3, 9, 2, 4, 8, 5, 6], [9, 6, 1, 5, 3, 7, 2, 8, 4], [2, 8, 7, 4, 1, 9, 6, 3, 5], [3, 4, 5, 2, 8, 6, 1, 7, 9]]\n"
     ]
    }
   ],
   "source": [
    "def possible(y, x, n):\n",
    "    global field\n",
    "    for i in range(0, 9):\n",
    "        if field[y][i] == n:\n",
    "            return False\n",
    "    for i in range(0, 9):\n",
    "        if field[i][x] == n:\n",
    "            return False\n",
    "    x0 = (x // 3) * 3\n",
    "    y0 = (y // 3) * 3\n",
    "    for i in range(0, 3):\n",
    "        for j in range(0, 3):\n",
    "            if field[y0 + i][x0 + j] == n:\n",
    "                return False\n",
    "    return True\n",
    "    \n",
    "def solver():\n",
    "    global field\n",
    "    for y in range(9):\n",
    "        for x in range(9):\n",
    "            if field[y][x] == 0:\n",
    "                for n in range(1, 10):\n",
    "                    if possible(y, x, n):\n",
    "                        field[y][x] = n\n",
    "                        solver()\n",
    "                        field[y][x] = 0\n",
    "                return \n",
    "    print(1)\n",
    "    print(field)\n",
    "solver()"
   ]
  },
  {
   "cell_type": "code",
   "execution_count": 26,
   "metadata": {
    "ExecuteTime": {
     "end_time": "2021-01-25T17:24:31.560771Z",
     "start_time": "2021-01-25T17:24:31.554652Z"
    }
   },
   "outputs": [
    {
     "name": "stdout",
     "output_type": "stream",
     "text": [
      "[[5, 3, 0, 0, 7, 0, 0, 0, 0], [6, 0, 0, 1, 9, 5, 0, 0, 0], [0, 9, 8, 0, 0, 0, 0, 6, 0], [8, 0, 0, 0, 6, 0, 0, 0, 3], [4, 0, 0, 8, 0, 3, 0, 0, 1], [7, 0, 0, 0, 2, 0, 0, 0, 6], [0, 6, 0, 0, 0, 0, 2, 8, 0], [0, 0, 0, 4, 1, 9, 0, 0, 5], [0, 0, 0, 0, 8, 0, 0, 7, 9]]\n"
     ]
    }
   ],
   "source": [
    "print(field)"
   ]
  }
 ],
 "metadata": {
  "kernelspec": {
   "display_name": "Python 3",
   "language": "python",
   "name": "python3"
  },
  "language_info": {
   "codemirror_mode": {
    "name": "ipython",
    "version": 3
   },
   "file_extension": ".py",
   "mimetype": "text/x-python",
   "name": "python",
   "nbconvert_exporter": "python",
   "pygments_lexer": "ipython3",
   "version": "3.8.3"
  },
  "varInspector": {
   "cols": {
    "lenName": 16,
    "lenType": 16,
    "lenVar": 40
   },
   "kernels_config": {
    "python": {
     "delete_cmd_postfix": "",
     "delete_cmd_prefix": "del ",
     "library": "var_list.py",
     "varRefreshCmd": "print(var_dic_list())"
    },
    "r": {
     "delete_cmd_postfix": ") ",
     "delete_cmd_prefix": "rm(",
     "library": "var_list.r",
     "varRefreshCmd": "cat(var_dic_list()) "
    }
   },
   "types_to_exclude": [
    "module",
    "function",
    "builtin_function_or_method",
    "instance",
    "_Feature"
   ],
   "window_display": false
  }
 },
 "nbformat": 4,
 "nbformat_minor": 4
}
